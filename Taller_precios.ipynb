{
  "nbformat": 4,
  "nbformat_minor": 0,
  "metadata": {
    "colab": {
      "provenance": [],
      "include_colab_link": true
    },
    "kernelspec": {
      "name": "python3",
      "display_name": "Python 3"
    },
    "language_info": {
      "name": "python"
    },
    "widgets": {
      "application/vnd.jupyter.widget-state+json": {
        "f21301369299495ab763981e5fdd5902": {
          "model_module": "@jupyter-widgets/controls",
          "model_name": "DropdownModel",
          "model_module_version": "1.5.0",
          "state": {
            "_dom_classes": [],
            "_model_module": "@jupyter-widgets/controls",
            "_model_module_version": "1.5.0",
            "_model_name": "DropdownModel",
            "_options_labels": [
              "Arveja verde en vaina",
              "Cebolla cabezona blanca",
              "Cebolla junca",
              "Chócolo mazorca",
              "Fríjol verde*",
              "Habichuela",
              "Lechuga batavia",
              "Pepino cohombro",
              "Pimentón",
              "Remolacha",
              "Tomate*",
              "Zanahoria",
              "Aguacate*",
              "Banano*",
              "Coco",
              "Granadilla",
              "Guayaba*",
              "Limón común",
              "Limón Tahití",
              "Lulo",
              "Mandarina*",
              "Mango tommy",
              "Manzana royal gala",
              "Maracuyá",
              "Mora de Castilla",
              "Naranja*",
              "Papaya maradol",
              "Piña *",
              "Tomate de árbol",
              "Arracacha*",
              "Papa negra*",
              "Papa criolla",
              "Plátano guineo",
              "Plátano hartón verde",
              "Yuca*"
            ],
            "_view_count": null,
            "_view_module": "@jupyter-widgets/controls",
            "_view_module_version": "1.5.0",
            "_view_name": "DropdownView",
            "description": "Producto:",
            "description_tooltip": null,
            "disabled": false,
            "index": 8,
            "layout": "IPY_MODEL_2b3946a537aa44d5994ae32b0ace371e",
            "style": "IPY_MODEL_860bd96ec3784a82b3f68214be51ee0b"
          }
        },
        "2b3946a537aa44d5994ae32b0ace371e": {
          "model_module": "@jupyter-widgets/base",
          "model_name": "LayoutModel",
          "model_module_version": "1.2.0",
          "state": {
            "_model_module": "@jupyter-widgets/base",
            "_model_module_version": "1.2.0",
            "_model_name": "LayoutModel",
            "_view_count": null,
            "_view_module": "@jupyter-widgets/base",
            "_view_module_version": "1.2.0",
            "_view_name": "LayoutView",
            "align_content": null,
            "align_items": null,
            "align_self": null,
            "border": null,
            "bottom": null,
            "display": null,
            "flex": null,
            "flex_flow": null,
            "grid_area": null,
            "grid_auto_columns": null,
            "grid_auto_flow": null,
            "grid_auto_rows": null,
            "grid_column": null,
            "grid_gap": null,
            "grid_row": null,
            "grid_template_areas": null,
            "grid_template_columns": null,
            "grid_template_rows": null,
            "height": null,
            "justify_content": null,
            "justify_items": null,
            "left": null,
            "margin": null,
            "max_height": null,
            "max_width": null,
            "min_height": null,
            "min_width": null,
            "object_fit": null,
            "object_position": null,
            "order": null,
            "overflow": null,
            "overflow_x": null,
            "overflow_y": null,
            "padding": null,
            "right": null,
            "top": null,
            "visibility": null,
            "width": null
          }
        },
        "860bd96ec3784a82b3f68214be51ee0b": {
          "model_module": "@jupyter-widgets/controls",
          "model_name": "DescriptionStyleModel",
          "model_module_version": "1.5.0",
          "state": {
            "_model_module": "@jupyter-widgets/controls",
            "_model_module_version": "1.5.0",
            "_model_name": "DescriptionStyleModel",
            "_view_count": null,
            "_view_module": "@jupyter-widgets/base",
            "_view_module_version": "1.2.0",
            "_view_name": "StyleView",
            "description_width": ""
          }
        }
      }
    }
  },
  "cells": [
    {
      "cell_type": "markdown",
      "metadata": {
        "id": "view-in-github",
        "colab_type": "text"
      },
      "source": [
        "<a href=\"https://colab.research.google.com/github/estebancardona1/Analitica/blob/main/Taller_precios.ipynb\" target=\"_parent\"><img src=\"https://colab.research.google.com/assets/colab-badge.svg\" alt=\"Open In Colab\"/></a>"
      ]
    },
    {
      "cell_type": "markdown",
      "source": [
        "**TALLER 3**\n",
        "\n",
        "A partir del dataframe construido en la tarea del modulo pasado identificar todos los problemas que se pueden ver en los datos: datos faltantes, datos duplicados, problemas de escalado, incosistencias, datos outliers, entre otros."
      ],
      "metadata": {
        "id": "FSZyZ414RHgA"
      }
    },
    {
      "cell_type": "code",
      "source": [
        "#Importar librerías\n",
        "import pandas as pd\n",
        "import numpy as np\n",
        "import seaborn as sns\n",
        "from scipy.stats import zscore\n",
        "import matplotlib.pyplot as plt\n",
        "import ipywidgets as widgets\n",
        "from IPython.display import display\n",
        "import plotly.express as px\n",
        "import math"
      ],
      "metadata": {
        "id": "C7-GIsXeSlYb"
      },
      "execution_count": 23,
      "outputs": []
    },
    {
      "cell_type": "code",
      "execution_count": 24,
      "metadata": {
        "id": "NJbwx8qNQ8jM",
        "colab": {
          "base_uri": "https://localhost:8080/",
          "height": 423
        },
        "outputId": "66a3cd46-fe99-425a-e4cf-676152600d2a"
      },
      "outputs": [
        {
          "output_type": "execute_result",
          "data": {
            "text/plain": [
              "                   producto       ciudad precio variabilidad      fecha  \\\n",
              "0     Arveja verde en vaina      armenia   7200          0.1  01ago2023   \n",
              "1     Arveja verde en vaina       bogotá   7925         0.11  01ago2023   \n",
              "2     Arveja verde en vaina  bucaramanga   6860         0.08  01ago2023   \n",
              "3     Arveja verde en vaina         cali   7733        -0.03  01ago2023   \n",
              "4     Arveja verde en vaina       cúcuta   9417         0.11  01ago2023   \n",
              "...                     ...          ...    ...          ...        ...   \n",
              "8850                  Yuca*     medellín   1650         0.06  29ago2023   \n",
              "8851                  Yuca*        neiva   n.d.         n.d.  29ago2023   \n",
              "8852                  Yuca*      pereira   1400         0.01  29ago2023   \n",
              "8853                  Yuca*  santa marta   n.d.         n.d.  29ago2023   \n",
              "8854                  Yuca*        tunja   n.d.         n.d.  29ago2023   \n",
              "\n",
              "        LATITUD   LONGITUD  \n",
              "0      4.499501 -75.724900  \n",
              "1      4.316108 -74.181073  \n",
              "2      7.155834 -73.111570  \n",
              "3      3.399044 -76.576493  \n",
              "4           NaN        NaN  \n",
              "...         ...        ...  \n",
              "8850   6.257590 -75.611031  \n",
              "8851   2.993360 -75.272362  \n",
              "8852   4.803663 -75.795791  \n",
              "8853  11.121894 -73.885279  \n",
              "8854   5.518473 -73.378019  \n",
              "\n",
              "[8855 rows x 7 columns]"
            ],
            "text/html": [
              "\n",
              "  <div id=\"df-f51a4627-f06f-4457-afeb-b17aeb76b885\" class=\"colab-df-container\">\n",
              "    <div>\n",
              "<style scoped>\n",
              "    .dataframe tbody tr th:only-of-type {\n",
              "        vertical-align: middle;\n",
              "    }\n",
              "\n",
              "    .dataframe tbody tr th {\n",
              "        vertical-align: top;\n",
              "    }\n",
              "\n",
              "    .dataframe thead th {\n",
              "        text-align: right;\n",
              "    }\n",
              "</style>\n",
              "<table border=\"1\" class=\"dataframe\">\n",
              "  <thead>\n",
              "    <tr style=\"text-align: right;\">\n",
              "      <th></th>\n",
              "      <th>producto</th>\n",
              "      <th>ciudad</th>\n",
              "      <th>precio</th>\n",
              "      <th>variabilidad</th>\n",
              "      <th>fecha</th>\n",
              "      <th>LATITUD</th>\n",
              "      <th>LONGITUD</th>\n",
              "    </tr>\n",
              "  </thead>\n",
              "  <tbody>\n",
              "    <tr>\n",
              "      <th>0</th>\n",
              "      <td>Arveja verde en vaina</td>\n",
              "      <td>armenia</td>\n",
              "      <td>7200</td>\n",
              "      <td>0.1</td>\n",
              "      <td>01ago2023</td>\n",
              "      <td>4.499501</td>\n",
              "      <td>-75.724900</td>\n",
              "    </tr>\n",
              "    <tr>\n",
              "      <th>1</th>\n",
              "      <td>Arveja verde en vaina</td>\n",
              "      <td>bogotá</td>\n",
              "      <td>7925</td>\n",
              "      <td>0.11</td>\n",
              "      <td>01ago2023</td>\n",
              "      <td>4.316108</td>\n",
              "      <td>-74.181073</td>\n",
              "    </tr>\n",
              "    <tr>\n",
              "      <th>2</th>\n",
              "      <td>Arveja verde en vaina</td>\n",
              "      <td>bucaramanga</td>\n",
              "      <td>6860</td>\n",
              "      <td>0.08</td>\n",
              "      <td>01ago2023</td>\n",
              "      <td>7.155834</td>\n",
              "      <td>-73.111570</td>\n",
              "    </tr>\n",
              "    <tr>\n",
              "      <th>3</th>\n",
              "      <td>Arveja verde en vaina</td>\n",
              "      <td>cali</td>\n",
              "      <td>7733</td>\n",
              "      <td>-0.03</td>\n",
              "      <td>01ago2023</td>\n",
              "      <td>3.399044</td>\n",
              "      <td>-76.576493</td>\n",
              "    </tr>\n",
              "    <tr>\n",
              "      <th>4</th>\n",
              "      <td>Arveja verde en vaina</td>\n",
              "      <td>cúcuta</td>\n",
              "      <td>9417</td>\n",
              "      <td>0.11</td>\n",
              "      <td>01ago2023</td>\n",
              "      <td>NaN</td>\n",
              "      <td>NaN</td>\n",
              "    </tr>\n",
              "    <tr>\n",
              "      <th>...</th>\n",
              "      <td>...</td>\n",
              "      <td>...</td>\n",
              "      <td>...</td>\n",
              "      <td>...</td>\n",
              "      <td>...</td>\n",
              "      <td>...</td>\n",
              "      <td>...</td>\n",
              "    </tr>\n",
              "    <tr>\n",
              "      <th>8850</th>\n",
              "      <td>Yuca*</td>\n",
              "      <td>medellín</td>\n",
              "      <td>1650</td>\n",
              "      <td>0.06</td>\n",
              "      <td>29ago2023</td>\n",
              "      <td>6.257590</td>\n",
              "      <td>-75.611031</td>\n",
              "    </tr>\n",
              "    <tr>\n",
              "      <th>8851</th>\n",
              "      <td>Yuca*</td>\n",
              "      <td>neiva</td>\n",
              "      <td>n.d.</td>\n",
              "      <td>n.d.</td>\n",
              "      <td>29ago2023</td>\n",
              "      <td>2.993360</td>\n",
              "      <td>-75.272362</td>\n",
              "    </tr>\n",
              "    <tr>\n",
              "      <th>8852</th>\n",
              "      <td>Yuca*</td>\n",
              "      <td>pereira</td>\n",
              "      <td>1400</td>\n",
              "      <td>0.01</td>\n",
              "      <td>29ago2023</td>\n",
              "      <td>4.803663</td>\n",
              "      <td>-75.795791</td>\n",
              "    </tr>\n",
              "    <tr>\n",
              "      <th>8853</th>\n",
              "      <td>Yuca*</td>\n",
              "      <td>santa marta</td>\n",
              "      <td>n.d.</td>\n",
              "      <td>n.d.</td>\n",
              "      <td>29ago2023</td>\n",
              "      <td>11.121894</td>\n",
              "      <td>-73.885279</td>\n",
              "    </tr>\n",
              "    <tr>\n",
              "      <th>8854</th>\n",
              "      <td>Yuca*</td>\n",
              "      <td>tunja</td>\n",
              "      <td>n.d.</td>\n",
              "      <td>n.d.</td>\n",
              "      <td>29ago2023</td>\n",
              "      <td>5.518473</td>\n",
              "      <td>-73.378019</td>\n",
              "    </tr>\n",
              "  </tbody>\n",
              "</table>\n",
              "<p>8855 rows × 7 columns</p>\n",
              "</div>\n",
              "    <div class=\"colab-df-buttons\">\n",
              "\n",
              "  <div class=\"colab-df-container\">\n",
              "    <button class=\"colab-df-convert\" onclick=\"convertToInteractive('df-f51a4627-f06f-4457-afeb-b17aeb76b885')\"\n",
              "            title=\"Convert this dataframe to an interactive table.\"\n",
              "            style=\"display:none;\">\n",
              "\n",
              "  <svg xmlns=\"http://www.w3.org/2000/svg\" height=\"24px\" viewBox=\"0 -960 960 960\">\n",
              "    <path d=\"M120-120v-720h720v720H120Zm60-500h600v-160H180v160Zm220 220h160v-160H400v160Zm0 220h160v-160H400v160ZM180-400h160v-160H180v160Zm440 0h160v-160H620v160ZM180-180h160v-160H180v160Zm440 0h160v-160H620v160Z\"/>\n",
              "  </svg>\n",
              "    </button>\n",
              "\n",
              "  <style>\n",
              "    .colab-df-container {\n",
              "      display:flex;\n",
              "      gap: 12px;\n",
              "    }\n",
              "\n",
              "    .colab-df-convert {\n",
              "      background-color: #E8F0FE;\n",
              "      border: none;\n",
              "      border-radius: 50%;\n",
              "      cursor: pointer;\n",
              "      display: none;\n",
              "      fill: #1967D2;\n",
              "      height: 32px;\n",
              "      padding: 0 0 0 0;\n",
              "      width: 32px;\n",
              "    }\n",
              "\n",
              "    .colab-df-convert:hover {\n",
              "      background-color: #E2EBFA;\n",
              "      box-shadow: 0px 1px 2px rgba(60, 64, 67, 0.3), 0px 1px 3px 1px rgba(60, 64, 67, 0.15);\n",
              "      fill: #174EA6;\n",
              "    }\n",
              "\n",
              "    .colab-df-buttons div {\n",
              "      margin-bottom: 4px;\n",
              "    }\n",
              "\n",
              "    [theme=dark] .colab-df-convert {\n",
              "      background-color: #3B4455;\n",
              "      fill: #D2E3FC;\n",
              "    }\n",
              "\n",
              "    [theme=dark] .colab-df-convert:hover {\n",
              "      background-color: #434B5C;\n",
              "      box-shadow: 0px 1px 3px 1px rgba(0, 0, 0, 0.15);\n",
              "      filter: drop-shadow(0px 1px 2px rgba(0, 0, 0, 0.3));\n",
              "      fill: #FFFFFF;\n",
              "    }\n",
              "  </style>\n",
              "\n",
              "    <script>\n",
              "      const buttonEl =\n",
              "        document.querySelector('#df-f51a4627-f06f-4457-afeb-b17aeb76b885 button.colab-df-convert');\n",
              "      buttonEl.style.display =\n",
              "        google.colab.kernel.accessAllowed ? 'block' : 'none';\n",
              "\n",
              "      async function convertToInteractive(key) {\n",
              "        const element = document.querySelector('#df-f51a4627-f06f-4457-afeb-b17aeb76b885');\n",
              "        const dataTable =\n",
              "          await google.colab.kernel.invokeFunction('convertToInteractive',\n",
              "                                                    [key], {});\n",
              "        if (!dataTable) return;\n",
              "\n",
              "        const docLinkHtml = 'Like what you see? Visit the ' +\n",
              "          '<a target=\"_blank\" href=https://colab.research.google.com/notebooks/data_table.ipynb>data table notebook</a>'\n",
              "          + ' to learn more about interactive tables.';\n",
              "        element.innerHTML = '';\n",
              "        dataTable['output_type'] = 'display_data';\n",
              "        await google.colab.output.renderOutput(dataTable, element);\n",
              "        const docLink = document.createElement('div');\n",
              "        docLink.innerHTML = docLinkHtml;\n",
              "        element.appendChild(docLink);\n",
              "      }\n",
              "    </script>\n",
              "  </div>\n",
              "\n",
              "\n",
              "<div id=\"df-c084227b-81a9-48b4-854b-e834d952c2a5\">\n",
              "  <button class=\"colab-df-quickchart\" onclick=\"quickchart('df-c084227b-81a9-48b4-854b-e834d952c2a5')\"\n",
              "            title=\"Suggest charts.\"\n",
              "            style=\"display:none;\">\n",
              "\n",
              "<svg xmlns=\"http://www.w3.org/2000/svg\" height=\"24px\"viewBox=\"0 0 24 24\"\n",
              "     width=\"24px\">\n",
              "    <g>\n",
              "        <path d=\"M19 3H5c-1.1 0-2 .9-2 2v14c0 1.1.9 2 2 2h14c1.1 0 2-.9 2-2V5c0-1.1-.9-2-2-2zM9 17H7v-7h2v7zm4 0h-2V7h2v10zm4 0h-2v-4h2v4z\"/>\n",
              "    </g>\n",
              "</svg>\n",
              "  </button>\n",
              "\n",
              "<style>\n",
              "  .colab-df-quickchart {\n",
              "      --bg-color: #E8F0FE;\n",
              "      --fill-color: #1967D2;\n",
              "      --hover-bg-color: #E2EBFA;\n",
              "      --hover-fill-color: #174EA6;\n",
              "      --disabled-fill-color: #AAA;\n",
              "      --disabled-bg-color: #DDD;\n",
              "  }\n",
              "\n",
              "  [theme=dark] .colab-df-quickchart {\n",
              "      --bg-color: #3B4455;\n",
              "      --fill-color: #D2E3FC;\n",
              "      --hover-bg-color: #434B5C;\n",
              "      --hover-fill-color: #FFFFFF;\n",
              "      --disabled-bg-color: #3B4455;\n",
              "      --disabled-fill-color: #666;\n",
              "  }\n",
              "\n",
              "  .colab-df-quickchart {\n",
              "    background-color: var(--bg-color);\n",
              "    border: none;\n",
              "    border-radius: 50%;\n",
              "    cursor: pointer;\n",
              "    display: none;\n",
              "    fill: var(--fill-color);\n",
              "    height: 32px;\n",
              "    padding: 0;\n",
              "    width: 32px;\n",
              "  }\n",
              "\n",
              "  .colab-df-quickchart:hover {\n",
              "    background-color: var(--hover-bg-color);\n",
              "    box-shadow: 0 1px 2px rgba(60, 64, 67, 0.3), 0 1px 3px 1px rgba(60, 64, 67, 0.15);\n",
              "    fill: var(--button-hover-fill-color);\n",
              "  }\n",
              "\n",
              "  .colab-df-quickchart-complete:disabled,\n",
              "  .colab-df-quickchart-complete:disabled:hover {\n",
              "    background-color: var(--disabled-bg-color);\n",
              "    fill: var(--disabled-fill-color);\n",
              "    box-shadow: none;\n",
              "  }\n",
              "\n",
              "  .colab-df-spinner {\n",
              "    border: 2px solid var(--fill-color);\n",
              "    border-color: transparent;\n",
              "    border-bottom-color: var(--fill-color);\n",
              "    animation:\n",
              "      spin 1s steps(1) infinite;\n",
              "  }\n",
              "\n",
              "  @keyframes spin {\n",
              "    0% {\n",
              "      border-color: transparent;\n",
              "      border-bottom-color: var(--fill-color);\n",
              "      border-left-color: var(--fill-color);\n",
              "    }\n",
              "    20% {\n",
              "      border-color: transparent;\n",
              "      border-left-color: var(--fill-color);\n",
              "      border-top-color: var(--fill-color);\n",
              "    }\n",
              "    30% {\n",
              "      border-color: transparent;\n",
              "      border-left-color: var(--fill-color);\n",
              "      border-top-color: var(--fill-color);\n",
              "      border-right-color: var(--fill-color);\n",
              "    }\n",
              "    40% {\n",
              "      border-color: transparent;\n",
              "      border-right-color: var(--fill-color);\n",
              "      border-top-color: var(--fill-color);\n",
              "    }\n",
              "    60% {\n",
              "      border-color: transparent;\n",
              "      border-right-color: var(--fill-color);\n",
              "    }\n",
              "    80% {\n",
              "      border-color: transparent;\n",
              "      border-right-color: var(--fill-color);\n",
              "      border-bottom-color: var(--fill-color);\n",
              "    }\n",
              "    90% {\n",
              "      border-color: transparent;\n",
              "      border-bottom-color: var(--fill-color);\n",
              "    }\n",
              "  }\n",
              "</style>\n",
              "\n",
              "  <script>\n",
              "    async function quickchart(key) {\n",
              "      const quickchartButtonEl =\n",
              "        document.querySelector('#' + key + ' button');\n",
              "      quickchartButtonEl.disabled = true;  // To prevent multiple clicks.\n",
              "      quickchartButtonEl.classList.add('colab-df-spinner');\n",
              "      try {\n",
              "        const charts = await google.colab.kernel.invokeFunction(\n",
              "            'suggestCharts', [key], {});\n",
              "      } catch (error) {\n",
              "        console.error('Error during call to suggestCharts:', error);\n",
              "      }\n",
              "      quickchartButtonEl.classList.remove('colab-df-spinner');\n",
              "      quickchartButtonEl.classList.add('colab-df-quickchart-complete');\n",
              "    }\n",
              "    (() => {\n",
              "      let quickchartButtonEl =\n",
              "        document.querySelector('#df-c084227b-81a9-48b4-854b-e834d952c2a5 button');\n",
              "      quickchartButtonEl.style.display =\n",
              "        google.colab.kernel.accessAllowed ? 'block' : 'none';\n",
              "    })();\n",
              "  </script>\n",
              "</div>\n",
              "    </div>\n",
              "  </div>\n"
            ]
          },
          "metadata": {},
          "execution_count": 24
        }
      ],
      "source": [
        "#Lectura de datos\n",
        "data = pd.read_csv(\"precios_pdtos_agricolas.cvs\")\n",
        "data"
      ]
    },
    {
      "cell_type": "markdown",
      "source": [
        "## <font color='157699'> **Validación de duplicados** </font>\n",
        "\n",
        "Inicialmente se revisa si se presentan **datos duplicados**, asosiados a productos de una misma ciudad y en una misma fecha, para este caso se presentan valores duplicados, pero estan asociados también a datos faltantes, por lo cual es recomendable eliminar estos datos ya que no aportan información a la temática central que es revisar los precios y la variablilidad de los mismos.\n"
      ],
      "metadata": {
        "id": "4pQspmDKcsqP"
      }
    },
    {
      "cell_type": "code",
      "source": [
        "#Validar si hay datos duplicados\n",
        "duplicados = data.duplicated(keep=False)\n",
        "filas_duplicadas = data[duplicados]\n",
        "print(filas_duplicadas)\n",
        "\n",
        "data = data.drop_duplicates()\n"
      ],
      "metadata": {
        "id": "C-cTCavnazHB",
        "colab": {
          "base_uri": "https://localhost:8080/"
        },
        "outputId": "fc5e010d-2279-4f8d-b2ba-160b4eff30f6"
      },
      "execution_count": 25,
      "outputs": [
        {
          "output_type": "stream",
          "name": "stdout",
          "text": [
            "             producto   ciudad precio variabilidad      fecha   LATITUD  \\\n",
            "857   Chócolo mazorca  pereira   n.d.         n.d.  03ago2023  4.803663   \n",
            "858   Chócolo mazorca  pereira   n.d.         n.d.  03ago2023  4.803663   \n",
            "969         Zanahoria  pereira   n.d.         n.d.  03ago2023  4.803663   \n",
            "970         Zanahoria  pereira   n.d.         n.d.  03ago2023  4.803663   \n",
            "1263   Plátano guineo  pereira   n.d.         n.d.  03ago2023  4.803663   \n",
            "1264   Plátano guineo  pereira   n.d.         n.d.  03ago2023  4.803663   \n",
            "2747  Chócolo mazorca  pereira   n.d.         n.d.  10ago2023  4.803663   \n",
            "2748  Chócolo mazorca  pereira   n.d.         n.d.  10ago2023  4.803663   \n",
            "2859        Zanahoria  pereira   n.d.         n.d.  10ago2023  4.803663   \n",
            "2860        Zanahoria  pereira   n.d.         n.d.  10ago2023  4.803663   \n",
            "2901             Coco  pereira   n.d.         n.d.  10ago2023  4.803663   \n",
            "2902             Coco  pereira   n.d.         n.d.  10ago2023  4.803663   \n",
            "3153   Plátano guineo  pereira   n.d.         n.d.  10ago2023  4.803663   \n",
            "3154   Plátano guineo  pereira   n.d.         n.d.  10ago2023  4.803663   \n",
            "5092  Chócolo mazorca  pereira   n.d.         n.d.  17ago2023  4.803663   \n",
            "5093  Chócolo mazorca  pereira   n.d.         n.d.  17ago2023  4.803663   \n",
            "5204        Zanahoria  pereira   n.d.         n.d.  17ago2023  4.803663   \n",
            "5205        Zanahoria  pereira   n.d.         n.d.  17ago2023  4.803663   \n",
            "5498   Plátano guineo  pereira   n.d.         n.d.  17ago2023  4.803663   \n",
            "5499   Plátano guineo  pereira   n.d.         n.d.  17ago2023  4.803663   \n",
            "6982  Chócolo mazorca  pereira   n.d.         n.d.  24ago2023  4.803663   \n",
            "6983  Chócolo mazorca  pereira   n.d.         n.d.  24ago2023  4.803663   \n",
            "7094        Zanahoria  pereira   n.d.         n.d.  24ago2023  4.803663   \n",
            "7095        Zanahoria  pereira   n.d.         n.d.  24ago2023  4.803663   \n",
            "7388   Plátano guineo  pereira   n.d.         n.d.  24ago2023  4.803663   \n",
            "7389   Plátano guineo  pereira   n.d.         n.d.  24ago2023  4.803663   \n",
            "\n",
            "       LONGITUD  \n",
            "857  -75.795791  \n",
            "858  -75.795791  \n",
            "969  -75.795791  \n",
            "970  -75.795791  \n",
            "1263 -75.795791  \n",
            "1264 -75.795791  \n",
            "2747 -75.795791  \n",
            "2748 -75.795791  \n",
            "2859 -75.795791  \n",
            "2860 -75.795791  \n",
            "2901 -75.795791  \n",
            "2902 -75.795791  \n",
            "3153 -75.795791  \n",
            "3154 -75.795791  \n",
            "5092 -75.795791  \n",
            "5093 -75.795791  \n",
            "5204 -75.795791  \n",
            "5205 -75.795791  \n",
            "5498 -75.795791  \n",
            "5499 -75.795791  \n",
            "6982 -75.795791  \n",
            "6983 -75.795791  \n",
            "7094 -75.795791  \n",
            "7095 -75.795791  \n",
            "7388 -75.795791  \n",
            "7389 -75.795791  \n"
          ]
        }
      ]
    },
    {
      "cell_type": "markdown",
      "source": [
        "## <font color='157699'> **Validación de datos faltantes** </font>\n",
        "\n",
        "Después, se revisa si se presentan **datos faltantes** en la base de datos, hay que tener presenque que algunos valores están guardados como 'n.d.' correspondientes a un `string`, y no directamente asociado a un `None `/` NaN`, por lo cual se debe hacer su respectiva corrección mediante la librería `numpy`."
      ],
      "metadata": {
        "id": "4S5II6a2iVUB"
      }
    },
    {
      "cell_type": "code",
      "source": [
        "#Reemplazar los dados 'n.d.' por NaN para ser utilizados como faltantes\n",
        "data.replace('n.d.', np.nan, inplace=True)\n",
        "\n",
        "# Muestra las variables que tienen datos faltantes\n",
        "print(data.isnull().any())\n",
        "\n",
        "print(\"--------------------------------------\")\n",
        "\n",
        "# Muestra la cantidad de datos faltantes\n",
        "print(data.isnull().sum())"
      ],
      "metadata": {
        "colab": {
          "base_uri": "https://localhost:8080/"
        },
        "id": "-ukf9g21gSLj",
        "outputId": "10bd1fb2-d1bb-46b5-e23e-38d6f6d33262"
      },
      "execution_count": 26,
      "outputs": [
        {
          "output_type": "stream",
          "name": "stdout",
          "text": [
            "producto        False\n",
            "ciudad          False\n",
            "precio           True\n",
            "variabilidad     True\n",
            "fecha           False\n",
            "LATITUD          True\n",
            "LONGITUD         True\n",
            "dtype: bool\n",
            "--------------------------------------\n",
            "producto           0\n",
            "ciudad             0\n",
            "precio          2173\n",
            "variabilidad    2316\n",
            "fecha              0\n",
            "LATITUD          805\n",
            "LONGITUD         805\n",
            "dtype: int64\n"
          ]
        },
        {
          "output_type": "stream",
          "name": "stderr",
          "text": [
            "<ipython-input-26-cdc02307e190>:2: SettingWithCopyWarning:\n",
            "\n",
            "\n",
            "A value is trying to be set on a copy of a slice from a DataFrame\n",
            "\n",
            "See the caveats in the documentation: https://pandas.pydata.org/pandas-docs/stable/user_guide/indexing.html#returning-a-view-versus-a-copy\n",
            "\n"
          ]
        }
      ]
    },
    {
      "cell_type": "markdown",
      "source": [
        "De la base de datos, después de realzar las correcciones asociadas a **datos faltantes**, se identificó que las variables asociadas a **precio**, **variabilidad**, **latitud** y **longitud** cuentan con datos faltantes.\n",
        "Lo que se busca entonces es identificar cuál método de imputación es el adecuado para cada dato faltante, en caso de ser la no comercialización de alguno de los productos en la ciudad, lo ideal sería eliminar la fila de información."
      ],
      "metadata": {
        "id": "1btqTAHtbjAf"
      }
    },
    {
      "cell_type": "code",
      "source": [
        "#Poner los productos iguales\n",
        "data['producto'] = data['producto'].str.replace('Aguacate ', 'Aguacate')\n",
        "data['producto'] = data['producto'].str.replace('Papa  criolla', 'Papa criolla')\n",
        "\n",
        "#Eliminar filas que no contengan precio\n",
        "data = data.dropna(subset=['precio'])\n",
        "\n",
        "#Para los valores faltantes de variabilidad se reemplazan con 0\n",
        "data['variabilidad'].fillna(0, inplace = True)\n",
        "\n",
        "#Asignar latitud y longitud a las ciudades faltantes\n",
        "data.loc[(data['ciudad'] == 'cúcuta') & data['LATITUD'].isna(), 'LATITUD'] = 7.8939100\n",
        "data.loc[(data['ciudad'] == 'cúcuta') & data['LONGITUD'].isna(), 'LONGITUD'] = -72.5078200\n",
        "\n",
        "data.loc[(data['ciudad'] == 'cartagena') & data['LATITUD'].isna(), 'LATITUD'] = 10.4000\n",
        "data.loc[(data['ciudad'] == 'cartagena') & data['LONGITUD'].isna(), 'LONGITUD'] = -75.5000"
      ],
      "metadata": {
        "id": "66rMIqmbjHsu",
        "colab": {
          "base_uri": "https://localhost:8080/"
        },
        "outputId": "8c7555ae-505a-4f8c-efff-de1b6dca32f4"
      },
      "execution_count": 27,
      "outputs": [
        {
          "output_type": "stream",
          "name": "stderr",
          "text": [
            "<ipython-input-27-99824f0e8b25>:2: SettingWithCopyWarning:\n",
            "\n",
            "\n",
            "A value is trying to be set on a copy of a slice from a DataFrame.\n",
            "Try using .loc[row_indexer,col_indexer] = value instead\n",
            "\n",
            "See the caveats in the documentation: https://pandas.pydata.org/pandas-docs/stable/user_guide/indexing.html#returning-a-view-versus-a-copy\n",
            "\n",
            "<ipython-input-27-99824f0e8b25>:3: SettingWithCopyWarning:\n",
            "\n",
            "\n",
            "A value is trying to be set on a copy of a slice from a DataFrame.\n",
            "Try using .loc[row_indexer,col_indexer] = value instead\n",
            "\n",
            "See the caveats in the documentation: https://pandas.pydata.org/pandas-docs/stable/user_guide/indexing.html#returning-a-view-versus-a-copy\n",
            "\n",
            "<ipython-input-27-99824f0e8b25>:9: SettingWithCopyWarning:\n",
            "\n",
            "\n",
            "A value is trying to be set on a copy of a slice from a DataFrame\n",
            "\n",
            "See the caveats in the documentation: https://pandas.pydata.org/pandas-docs/stable/user_guide/indexing.html#returning-a-view-versus-a-copy\n",
            "\n"
          ]
        }
      ]
    },
    {
      "cell_type": "markdown",
      "source": [
        "Se identificó una particularidad en el producto **Aguacate** el cual, en algunos casos, se mostraba como \"Aguacate*\" y en otros \"Aguacate *\", separado por un espacio, pero asociado al mismo producto, al igual que la **Papa criolla**, en algunos datos se mostraba separada por doble espaciado, por lo cual, inicialmente se realiza un **ajuste** para que ambos productos tengan el mismo nombre. Después se realiza la eliminación de filas las cuales no contienen **precio** (*Ya que se deduce que son ciudades las cuales no producen este producto o no tienen un registro diario de sus precios*), y finalmente se realiza la asignación de valores de latitud y longitud para las ciudades que lo requieran."
      ],
      "metadata": {
        "id": "pj3TZZM2jgzV"
      }
    },
    {
      "cell_type": "code",
      "source": [
        "#VALIDACIÓN NUEVAMENTE DE FALTANTES\n",
        "\n",
        "# Muestra las variables que tienen datos faltantes\n",
        "print(data.isnull().any())\n",
        "\n",
        "print(\"--------------------------------------\")\n",
        "\n",
        "# Muestra la cantidad de datos faltantes\n",
        "print(data.isnull().sum())"
      ],
      "metadata": {
        "colab": {
          "base_uri": "https://localhost:8080/"
        },
        "id": "Ry5HaRggkdtu",
        "outputId": "e960d0e2-764a-473f-910c-b85a83113a07"
      },
      "execution_count": 28,
      "outputs": [
        {
          "output_type": "stream",
          "name": "stdout",
          "text": [
            "producto        False\n",
            "ciudad          False\n",
            "precio          False\n",
            "variabilidad    False\n",
            "fecha           False\n",
            "LATITUD         False\n",
            "LONGITUD        False\n",
            "dtype: bool\n",
            "--------------------------------------\n",
            "producto        0\n",
            "ciudad          0\n",
            "precio          0\n",
            "variabilidad    0\n",
            "fecha           0\n",
            "LATITUD         0\n",
            "LONGITUD        0\n",
            "dtype: int64\n"
          ]
        }
      ]
    },
    {
      "cell_type": "code",
      "source": [
        "#Revisar el tipo de variables\n",
        "tipo = data.dtypes\n",
        "print(tipo)"
      ],
      "metadata": {
        "colab": {
          "base_uri": "https://localhost:8080/"
        },
        "id": "WawYGzGVb78J",
        "outputId": "bb6c954b-df67-4c65-c59c-dd925e04af94"
      },
      "execution_count": 29,
      "outputs": [
        {
          "output_type": "stream",
          "name": "stdout",
          "text": [
            "producto         object\n",
            "ciudad           object\n",
            "precio           object\n",
            "variabilidad     object\n",
            "fecha            object\n",
            "LATITUD         float64\n",
            "LONGITUD        float64\n",
            "dtype: object\n"
          ]
        }
      ]
    },
    {
      "cell_type": "markdown",
      "source": [
        "## <font color='157699'> **Tipo de variables** </font>\n",
        "Según el tipo de variables es necesario **redefinir el tipo algunas variables**, entre ellas, el precio y la variabilidad, ya que están almacenadas como `object` y para análisis estadísticos es necesario trabajarlas como valores numéricos, en este caso, `float`.\n"
      ],
      "metadata": {
        "id": "SFszsDtjfHqN"
      }
    },
    {
      "cell_type": "code",
      "source": [
        "#Convertir las variables necesarias\n",
        "data['precio'] = data['precio'].astype(float)\n",
        "data['variabilidad'] = data['variabilidad'].astype(float)\n",
        "\n",
        "tipo_variable = data.dtypes\n",
        "print(tipo_variable)"
      ],
      "metadata": {
        "colab": {
          "base_uri": "https://localhost:8080/"
        },
        "id": "ToDP_Jx448B1",
        "outputId": "216419dc-14e6-453d-e968-65c8c15707a3"
      },
      "execution_count": 30,
      "outputs": [
        {
          "output_type": "stream",
          "name": "stdout",
          "text": [
            "producto         object\n",
            "ciudad           object\n",
            "precio          float64\n",
            "variabilidad    float64\n",
            "fecha            object\n",
            "LATITUD         float64\n",
            "LONGITUD        float64\n",
            "dtype: object\n"
          ]
        }
      ]
    },
    {
      "cell_type": "markdown",
      "source": [
        "## <font color='157699'> **Categorización de variables** </font>\n",
        "Se considera necesario crear una categorización para los precios y las ciudades, por lo que se decide definir unos **rangos para las variaciones** para revisar qué tan amplia fue su variación en el tiempo, se categorizan en baja, media y alta. Y para las ciudades se crea una **zonificación** en la cual se separan las ciudades de acuerdo a unas zonas específicas, entre ellas: Occidente, Oriente, Santanderes, Centro y Costa."
      ],
      "metadata": {
        "id": "YHChoq4RUDzY"
      }
    },
    {
      "cell_type": "code",
      "source": [
        "#Convertir el nombre de las ciudades en Mayúsculas\n",
        "data['ciudad'] = data['ciudad'].str.upper()\n",
        "\n",
        "occidente = ['ARMENIA', 'CALI', 'OCCIDENTE', 'PEREIRA', 'PASTO', 'POPAYÁN', 'MANIZALES', 'MEDELLÍN']\n",
        "oriente = ['BOGOTÁ', 'NEIVA']\n",
        "santanderes = ['BUCARAMANGA', 'CÚCUTA']\n",
        "centro = ['IBAGUÉ', 'TUNJA']\n",
        "costa = ['SANTA MARTA', 'BARRANQUILLA', 'VILLAVICENCIO', 'CARTAGENA', 'MONTERÍA', 'SINCELEJO', 'VALLEDUPAR']\n",
        "\n",
        "# Crear una función para asignar la zona a cada ciudad\n",
        "def asignar_zona(ciudad):\n",
        "    if ciudad in occidente:\n",
        "        return 'Occidente'\n",
        "    elif ciudad in oriente:\n",
        "        return 'Oriente'\n",
        "    elif ciudad in santanderes:\n",
        "        return 'Santanderes'\n",
        "    elif ciudad in centro:\n",
        "        return 'Centro'\n",
        "    elif ciudad in costa:\n",
        "        return 'Costa'\n",
        "    else:\n",
        "        return 'Otra'\n",
        "\n",
        "# Aplicar la función a la columna 'ciudad' y crear una nueva columna 'zona'\n",
        "data['zona'] = data['ciudad'].apply(asignar_zona)\n",
        "\n",
        "# Definir los límites de los intervalos y nombres de categorías\n",
        "valores = [-math.inf, 0.25, 0.75, math.inf]\n",
        "categorias = ['Baja', 'Media', 'Alta']\n",
        "\n",
        "# Calcular el valor absoluto de la columna 'variabilidad'\n",
        "data['variabilidad_abs'] = data['variabilidad'].abs()\n",
        "\n",
        "# Aplicar la clasificación a la columna 'variabilidad_abs'\n",
        "data['variacion'] = pd.cut(data['variabilidad_abs'], bins=valores, labels=categorias)"
      ],
      "metadata": {
        "id": "B5UY7A9gkikV"
      },
      "execution_count": 31,
      "outputs": []
    },
    {
      "cell_type": "markdown",
      "source": [
        "## <font color='157699'> **Outliers** </font>"
      ],
      "metadata": {
        "id": "GYbtYjE2ENz9"
      }
    },
    {
      "cell_type": "code",
      "source": [
        "fig, axes = plt.subplots(1, 2, figsize=(12, 5))\n",
        "\n",
        "# Primer gráfico: Histograma\n",
        "sns.histplot(data, x='precio', ax=axes[0])\n",
        "axes[0].set_xlabel('Precio de los productos')\n",
        "axes[0].set_ylabel('Frecuencia')\n",
        "axes[0].set_title('Histograma de Precios')\n",
        "\n",
        "# Segundo gráfico: Boxplot\n",
        "sns.boxplot(data, x='precio', ax=axes[1])\n",
        "axes[1].set_xlabel('Precio de los productos')\n",
        "axes[1].set_title('Boxplot de Precios')\n",
        "\n",
        "# Ajustar el espacio entre los gráficos\n",
        "plt.tight_layout()\n",
        "\n",
        "# Mostrar los gráficos\n",
        "plt.show()\n"
      ],
      "metadata": {
        "colab": {
          "base_uri": "https://localhost:8080/",
          "height": 507
        },
        "id": "UP3FXF70J9IB",
        "outputId": "8beb8873-5555-4f0a-e5aa-f4acedb9a512"
      },
      "execution_count": 42,
      "outputs": [
        {
          "output_type": "display_data",
          "data": {
            "text/plain": [
              "<Figure size 1200x500 with 2 Axes>"
            ],
            "image/png": "[encoded data removed]"
          },
          "metadata": {}
        }
      ]
    },
    {
      "cell_type": "markdown",
      "source": [
        "Es necesario para la identificación de datos atipicos u outliers hacer un **filtro por producto** ya que que al tener una base de datos completa con varios productos hace que el precio presente mayor disperción y **no sería lo adecuado.**\n",
        "Después de realizar el filtro por algunos productos, **no se identifica alguna variacion significativa** por lo que se decide **conservar la base de datos completa**, lo cual tiene sentido ya que es únicamente la variación en un mes del año."
      ],
      "metadata": {
        "id": "RhCS-shuIvH6"
      }
    },
    {
      "cell_type": "markdown",
      "source": [
        "## <font color='157699'> **Análisis gráfico** </font>"
      ],
      "metadata": {
        "id": "Phdy-oD2XfZ4"
      }
    },
    {
      "cell_type": "markdown",
      "source": [
        "Se plantean algunas preguntas que se pueden resolver mediante un anáisis gráfico, entre ellas las siguientes:\n",
        "\n",
        "**1. ¿Cúal es el comportamiento de los precios de los productos en alguna ciudad en específico (en este caso Medellín)?**"
      ],
      "metadata": {
        "id": "bljnAf6nXZjv"
      }
    },
    {
      "cell_type": "code",
      "source": [
        "# Filtra los datos solo para Medellín\n",
        "ciudades = data['ciudad'].unique()\n",
        "\n",
        "ciudad = input(\"Ingrese una ciudad (Recuerde poner tíldes de ser necesario): \")\n",
        "ciudad = ciudad.upper()\n",
        "\n",
        "while not ciudad in ciudades:\n",
        "    print(\"La ciudad no está en la base de datos, intente nuevamente\")\n",
        "    ciudad = input(\"Ingrese una ciudad (Recuerde poner tíldes de ser necesario): \")\n",
        "    ciudad = ciudad.upper()\n",
        "\n",
        "ciudad_seleccionada = data[data['ciudad'] == ciudad]\n",
        "\n",
        "fig = px.line(ciudad_seleccionada, x='fecha', y='precio', color='producto', title='Línea de Tiempo de Precios de Productos en Medellín')\n",
        "fig.update_traces(mode='lines+markers')\n",
        "fig.update_xaxes(title='Fecha')\n",
        "fig.update_yaxes(title='Precio')\n",
        "fig.show()"
      ],
      "metadata": {
        "colab": {
          "base_uri": "https://localhost:8080/",
          "height": 560
        },
        "id": "dItZQzFLtjPP",
        "outputId": "0cd2a3ad-bfee-44e2-aa3d-9a0904a0a890"
      },
      "execution_count": 32,
      "outputs": [
        {
          "name": "stdout",
          "output_type": "stream",
          "text": [
            "Ingrese una ciudad (Recuerde poner tíldes de ser necesario): Medellín\n"
          ]
        },
        {
          "output_type": "display_data",
          "data": {
            "text/html": [
              "<html>\n",
              "<head><meta charset=\"utf-8\" /></head>\n",
              "<body>\n",
              "    <div>            <script src=\"https://cdnjs.cloudflare.com/ajax/libs/mathjax/2.7.5/MathJax.js?config=TeX-AMS-MML_SVG\"></script><script type=\"text/javascript\">if (window.MathJax && window.MathJax.Hub && window.MathJax.Hub.Config) {window.MathJax.Hub.Config({SVG: {font: \"STIX-Web\"}});}</script>                <script type=\"text/javascript\">window.PlotlyConfig = {MathJaxConfig: 'local'};</script>\n",
              "        <script charset=\"utf-8\" src=\"https://cdn.plot.ly/plotly-2.24.1.min.js\"></script>                <div id=\"2974c0a2-4152-4cf3-b5aa-4eee1e9bd069\" class=\"plotly-graph-div\" style=\"height:525px; width:100%;\"></div>            <script type=\"text/javascript\">                                    window.PLOTLYENV=window.PLOTLYENV || {};                                    if (document.getElementById(\"2974c0a2-4152-4cf3-b5aa-4eee1e9bd069\")) {                    Plotly.newPlot(                        \"2974c0a2-4152-4cf3-b5aa-4eee1e9bd069\",                        [{\"hovertemplate\":\"producto=Arveja verde en vaina\\u003cbr\\u003efecha=%{x}\\u003cbr\\u003eprecio=%{y}\\u003cextra\\u003e\\u003c\\u002fextra\\u003e\",\"legendgroup\":\"Arveja verde en vaina\",\"line\":{\"color\":\"#636efa\",\"dash\":\"solid\"},\"marker\":{\"symbol\":\"circle\"},\"mode\":\"lines+markers\",\"name\":\"Arveja verde en vaina\",\"orientation\":\"v\",\"showlegend\":true,\"x\":[\"01ago2023\",\"02ago2023\",\"03ago2023\",\"04ago2023\",\"08ago2023\",\"09ago2023\",\"10ago2023\",\"11ago2023\",\"14ago2023\",\"15ago2023\",\"16ago2023\",\"17ago2023\",\"18ago2023\",\"22ago2023\",\"23ago2023\",\"24ago2023\",\"25ago2023\",\"28ago2023\",\"29ago2023\"],\"xaxis\":\"x\",\"y\":[5950.0,5900.0,6125.0,6150.0,6150.0,6150.0,5550.0,5775.0,4950.0,5463.0,5650.0,4925.0,5150.0,4050.0,4100.0,4100.0,3850.0,4075.0,3875.0],\"yaxis\":\"y\",\"type\":\"scatter\"},{\"hovertemplate\":\"producto=Cebolla cabezona blanca\\u003cbr\\u003efecha=%{x}\\u003cbr\\u003eprecio=%{y}\\u003cextra\\u003e\\u003c\\u002fextra\\u003e\",\"legendgroup\":\"Cebolla cabezona blanca\",\"line\":{\"color\":\"#EF553B\",\"dash\":\"solid\"},\"marker\":{\"symbol\":\"circle\"},\"mode\":\"lines+markers\",\"name\":\"Cebolla cabezona blanca\",\"orientation\":\"v\",\"showlegend\":true,\"x\":[\"01ago2023\",\"02ago2023\",\"03ago2023\",\"04ago2023\",\"08ago2023\",\"09ago2023\",\"10ago2023\",\"11ago2023\",\"14ago2023\",\"15ago2023\",\"16ago2023\",\"17ago2023\",\"18ago2023\",\"22ago2023\",\"23ago2023\",\"24ago2023\",\"25ago2023\",\"28ago2023\",\"29ago2023\"],\"xaxis\":\"x\",\"y\":[1927.0,2057.0,2057.0,2839.0,3698.0,3698.0,3073.0,3073.0,2865.0,3099.0,3099.0,3281.0,3333.0,3516.0,3359.0,3385.0,3151.0,3333.0,3255.0],\"yaxis\":\"y\",\"type\":\"scatter\"},{\"hovertemplate\":\"producto=Cebolla junca\\u003cbr\\u003efecha=%{x}\\u003cbr\\u003eprecio=%{y}\\u003cextra\\u003e\\u003c\\u002fextra\\u003e\",\"legendgroup\":\"Cebolla junca\",\"line\":{\"color\":\"#00cc96\",\"dash\":\"solid\"},\"marker\":{\"symbol\":\"circle\"},\"mode\":\"lines+markers\",\"name\":\"Cebolla junca\",\"orientation\":\"v\",\"showlegend\":true,\"x\":[\"01ago2023\",\"02ago2023\",\"03ago2023\",\"04ago2023\",\"08ago2023\",\"09ago2023\",\"10ago2023\",\"11ago2023\",\"14ago2023\",\"15ago2023\",\"16ago2023\",\"17ago2023\",\"18ago2023\",\"22ago2023\",\"23ago2023\",\"24ago2023\",\"25ago2023\",\"28ago2023\",\"29ago2023\"],\"xaxis\":\"x\",\"y\":[1782.0,1994.0,2307.0,2307.0,1935.0,2182.0,2195.0,1954.0,2251.0,1776.0,1788.0,1803.0,1803.0,1803.0,1178.0,1178.0,1504.0,2156.0,2142.0],\"yaxis\":\"y\",\"type\":\"scatter\"},{\"hovertemplate\":\"producto=Ch\\u00f3colo mazorca\\u003cbr\\u003efecha=%{x}\\u003cbr\\u003eprecio=%{y}\\u003cextra\\u003e\\u003c\\u002fextra\\u003e\",\"legendgroup\":\"Ch\\u00f3colo mazorca\",\"line\":{\"color\":\"#ab63fa\",\"dash\":\"solid\"},\"marker\":{\"symbol\":\"circle\"},\"mode\":\"lines+markers\",\"name\":\"Ch\\u00f3colo mazorca\",\"orientation\":\"v\",\"showlegend\":true,\"x\":[\"01ago2023\",\"02ago2023\",\"03ago2023\",\"04ago2023\",\"08ago2023\",\"09ago2023\",\"10ago2023\",\"11ago2023\",\"15ago2023\",\"16ago2023\",\"17ago2023\",\"18ago2023\",\"22ago2023\",\"23ago2023\",\"24ago2023\",\"25ago2023\",\"29ago2023\"],\"xaxis\":\"x\",\"y\":[1500.0,1500.0,1500.0,1500.0,1500.0,1500.0,1500.0,1500.0,1500.0,1500.0,1500.0,1500.0,1500.0,1500.0,1500.0,1500.0,1500.0],\"yaxis\":\"y\",\"type\":\"scatter\"},{\"hovertemplate\":\"producto=Fr\\u00edjol verde*\\u003cbr\\u003efecha=%{x}\\u003cbr\\u003eprecio=%{y}\\u003cextra\\u003e\\u003c\\u002fextra\\u003e\",\"legendgroup\":\"Fr\\u00edjol verde*\",\"line\":{\"color\":\"#FFA15A\",\"dash\":\"solid\"},\"marker\":{\"symbol\":\"circle\"},\"mode\":\"lines+markers\",\"name\":\"Fr\\u00edjol verde*\",\"orientation\":\"v\",\"showlegend\":true,\"x\":[\"01ago2023\",\"02ago2023\",\"03ago2023\",\"04ago2023\",\"08ago2023\",\"09ago2023\",\"10ago2023\",\"11ago2023\",\"14ago2023\",\"15ago2023\",\"16ago2023\",\"17ago2023\",\"18ago2023\",\"22ago2023\",\"23ago2023\",\"24ago2023\",\"25ago2023\",\"28ago2023\",\"29ago2023\"],\"xaxis\":\"x\",\"y\":[3150.0,2850.0,2738.0,2963.0,2525.0,2225.0,2075.0,1900.0,3375.0,2550.0,2375.0,2375.0,2413.0,2300.0,2350.0,2050.0,2550.0,2950.0,2738.0],\"yaxis\":\"y\",\"type\":\"scatter\"},{\"hovertemplate\":\"producto=Habichuela\\u003cbr\\u003efecha=%{x}\\u003cbr\\u003eprecio=%{y}\\u003cextra\\u003e\\u003c\\u002fextra\\u003e\",\"legendgroup\":\"Habichuela\",\"line\":{\"color\":\"#19d3f3\",\"dash\":\"solid\"},\"marker\":{\"symbol\":\"circle\"},\"mode\":\"lines+markers\",\"name\":\"Habichuela\",\"orientation\":\"v\",\"showlegend\":true,\"x\":[\"01ago2023\",\"02ago2023\",\"03ago2023\",\"04ago2023\",\"08ago2023\",\"09ago2023\",\"10ago2023\",\"11ago2023\",\"14ago2023\",\"15ago2023\",\"16ago2023\",\"17ago2023\",\"18ago2023\",\"22ago2023\",\"23ago2023\",\"24ago2023\",\"25ago2023\",\"28ago2023\",\"29ago2023\"],\"xaxis\":\"x\",\"y\":[2550.0,2550.0,2800.0,2925.0,2925.0,2950.0,2950.0,2025.0,2013.0,2050.0,1850.0,1463.0,1225.0,825.0,725.0,750.0,750.0,1200.0,1200.0],\"yaxis\":\"y\",\"type\":\"scatter\"},{\"hovertemplate\":\"producto=Lechuga batavia\\u003cbr\\u003efecha=%{x}\\u003cbr\\u003eprecio=%{y}\\u003cextra\\u003e\\u003c\\u002fextra\\u003e\",\"legendgroup\":\"Lechuga batavia\",\"line\":{\"color\":\"#FF6692\",\"dash\":\"solid\"},\"marker\":{\"symbol\":\"circle\"},\"mode\":\"lines+markers\",\"name\":\"Lechuga batavia\",\"orientation\":\"v\",\"showlegend\":true,\"x\":[\"01ago2023\",\"02ago2023\",\"03ago2023\",\"04ago2023\",\"08ago2023\",\"09ago2023\",\"10ago2023\",\"11ago2023\",\"14ago2023\",\"15ago2023\",\"16ago2023\",\"17ago2023\",\"18ago2023\",\"22ago2023\",\"23ago2023\",\"24ago2023\",\"25ago2023\",\"28ago2023\",\"29ago2023\"],\"xaxis\":\"x\",\"y\":[859.0,877.0,1177.0,1164.0,1038.0,1034.0,1046.0,891.0,946.0,954.0,950.0,883.0,875.0,820.0,722.0,776.0,776.0,875.0,789.0],\"yaxis\":\"y\",\"type\":\"scatter\"},{\"hovertemplate\":\"producto=Pepino cohombro\\u003cbr\\u003efecha=%{x}\\u003cbr\\u003eprecio=%{y}\\u003cextra\\u003e\\u003c\\u002fextra\\u003e\",\"legendgroup\":\"Pepino cohombro\",\"line\":{\"color\":\"#B6E880\",\"dash\":\"solid\"},\"marker\":{\"symbol\":\"circle\"},\"mode\":\"lines+markers\",\"name\":\"Pepino cohombro\",\"orientation\":\"v\",\"showlegend\":true,\"x\":[\"01ago2023\",\"02ago2023\",\"03ago2023\",\"04ago2023\",\"08ago2023\",\"09ago2023\",\"10ago2023\",\"11ago2023\",\"14ago2023\",\"15ago2023\",\"16ago2023\",\"17ago2023\",\"18ago2023\",\"22ago2023\",\"23ago2023\",\"24ago2023\",\"25ago2023\",\"28ago2023\",\"29ago2023\"],\"xaxis\":\"x\",\"y\":[1775.0,2075.0,2075.0,2100.0,2100.0,2100.0,2350.0,2463.0,1875.0,1888.0,1875.0,1875.0,1875.0,1925.0,1525.0,1525.0,1400.0,1250.0,1425.0],\"yaxis\":\"y\",\"type\":\"scatter\"},{\"hovertemplate\":\"producto=Piment\\u00f3n\\u003cbr\\u003efecha=%{x}\\u003cbr\\u003eprecio=%{y}\\u003cextra\\u003e\\u003c\\u002fextra\\u003e\",\"legendgroup\":\"Piment\\u00f3n\",\"line\":{\"color\":\"#FF97FF\",\"dash\":\"solid\"},\"marker\":{\"symbol\":\"circle\"},\"mode\":\"lines+markers\",\"name\":\"Piment\\u00f3n\",\"orientation\":\"v\",\"showlegend\":true,\"x\":[\"01ago2023\",\"02ago2023\",\"03ago2023\",\"04ago2023\",\"08ago2023\",\"09ago2023\",\"10ago2023\",\"11ago2023\",\"14ago2023\",\"15ago2023\",\"16ago2023\",\"17ago2023\",\"18ago2023\",\"22ago2023\",\"23ago2023\",\"24ago2023\",\"25ago2023\",\"28ago2023\",\"29ago2023\"],\"xaxis\":\"x\",\"y\":[1150.0,1150.0,1125.0,1250.0,1050.0,1050.0,1463.0,1675.0,1650.0,1250.0,1050.0,1050.0,1075.0,1425.0,1250.0,1050.0,1050.0,1000.0,975.0],\"yaxis\":\"y\",\"type\":\"scatter\"},{\"hovertemplate\":\"producto=Remolacha\\u003cbr\\u003efecha=%{x}\\u003cbr\\u003eprecio=%{y}\\u003cextra\\u003e\\u003c\\u002fextra\\u003e\",\"legendgroup\":\"Remolacha\",\"line\":{\"color\":\"#FECB52\",\"dash\":\"solid\"},\"marker\":{\"symbol\":\"circle\"},\"mode\":\"lines+markers\",\"name\":\"Remolacha\",\"orientation\":\"v\",\"showlegend\":true,\"x\":[\"01ago2023\",\"02ago2023\",\"03ago2023\",\"04ago2023\",\"08ago2023\",\"09ago2023\",\"10ago2023\",\"11ago2023\",\"14ago2023\",\"15ago2023\",\"16ago2023\",\"17ago2023\",\"18ago2023\",\"22ago2023\",\"23ago2023\",\"24ago2023\",\"25ago2023\",\"28ago2023\",\"29ago2023\"],\"xaxis\":\"x\",\"y\":[550.0,550.0,675.0,675.0,775.0,750.0,750.0,750.0,700.0,725.0,625.0,625.0,763.0,625.0,625.0,625.0,650.0,650.0,650.0],\"yaxis\":\"y\",\"type\":\"scatter\"},{\"hovertemplate\":\"producto=Tomate*\\u003cbr\\u003efecha=%{x}\\u003cbr\\u003eprecio=%{y}\\u003cextra\\u003e\\u003c\\u002fextra\\u003e\",\"legendgroup\":\"Tomate*\",\"line\":{\"color\":\"#636efa\",\"dash\":\"solid\"},\"marker\":{\"symbol\":\"circle\"},\"mode\":\"lines+markers\",\"name\":\"Tomate*\",\"orientation\":\"v\",\"showlegend\":true,\"x\":[\"01ago2023\",\"02ago2023\",\"03ago2023\",\"04ago2023\",\"08ago2023\",\"09ago2023\",\"10ago2023\",\"11ago2023\",\"14ago2023\",\"15ago2023\",\"16ago2023\",\"17ago2023\",\"18ago2023\",\"22ago2023\",\"23ago2023\",\"24ago2023\",\"25ago2023\",\"28ago2023\",\"29ago2023\"],\"xaxis\":\"x\",\"y\":[2825.0,2875.0,3100.0,3463.0,2725.0,2913.0,2925.0,2950.0,2750.0,2900.0,3150.0,3150.0,3425.0,3925.0,3550.0,3925.0,3900.0,3725.0,3925.0],\"yaxis\":\"y\",\"type\":\"scatter\"},{\"hovertemplate\":\"producto=Zanahoria\\u003cbr\\u003efecha=%{x}\\u003cbr\\u003eprecio=%{y}\\u003cextra\\u003e\\u003c\\u002fextra\\u003e\",\"legendgroup\":\"Zanahoria\",\"line\":{\"color\":\"#EF553B\",\"dash\":\"solid\"},\"marker\":{\"symbol\":\"circle\"},\"mode\":\"lines+markers\",\"name\":\"Zanahoria\",\"orientation\":\"v\",\"showlegend\":true,\"x\":[\"01ago2023\",\"02ago2023\",\"03ago2023\",\"04ago2023\",\"08ago2023\",\"09ago2023\",\"10ago2023\",\"11ago2023\",\"14ago2023\",\"15ago2023\",\"16ago2023\",\"17ago2023\",\"18ago2023\",\"22ago2023\",\"23ago2023\",\"24ago2023\",\"25ago2023\",\"28ago2023\",\"29ago2023\"],\"xaxis\":\"x\",\"y\":[417.0,422.0,369.0,431.0,433.0,383.0,344.0,356.0,444.0,422.0,383.0,428.0,422.0,422.0,428.0,361.0,389.0,339.0,342.0],\"yaxis\":\"y\",\"type\":\"scatter\"},{\"hovertemplate\":\"producto=Aguacate*\\u003cbr\\u003efecha=%{x}\\u003cbr\\u003eprecio=%{y}\\u003cextra\\u003e\\u003c\\u002fextra\\u003e\",\"legendgroup\":\"Aguacate*\",\"line\":{\"color\":\"#00cc96\",\"dash\":\"solid\"},\"marker\":{\"symbol\":\"circle\"},\"mode\":\"lines+markers\",\"name\":\"Aguacate*\",\"orientation\":\"v\",\"showlegend\":true,\"x\":[\"01ago2023\",\"02ago2023\",\"03ago2023\",\"04ago2023\",\"08ago2023\",\"09ago2023\",\"10ago2023\",\"11ago2023\",\"14ago2023\",\"15ago2023\",\"16ago2023\",\"17ago2023\",\"18ago2023\",\"22ago2023\",\"23ago2023\",\"24ago2023\",\"25ago2023\",\"28ago2023\",\"29ago2023\"],\"xaxis\":\"x\",\"y\":[4100.0,4100.0,4100.0,3950.0,4225.0,4100.0,4050.0,4100.0,4100.0,4488.0,4500.0,4450.0,4900.0,5288.0,5150.0,5050.0,4925.0,5050.0,5438.0],\"yaxis\":\"y\",\"type\":\"scatter\"},{\"hovertemplate\":\"producto=Banano*\\u003cbr\\u003efecha=%{x}\\u003cbr\\u003eprecio=%{y}\\u003cextra\\u003e\\u003c\\u002fextra\\u003e\",\"legendgroup\":\"Banano*\",\"line\":{\"color\":\"#ab63fa\",\"dash\":\"solid\"},\"marker\":{\"symbol\":\"circle\"},\"mode\":\"lines+markers\",\"name\":\"Banano*\",\"orientation\":\"v\",\"showlegend\":true,\"x\":[\"01ago2023\",\"02ago2023\",\"03ago2023\",\"04ago2023\",\"08ago2023\",\"09ago2023\",\"10ago2023\",\"11ago2023\",\"14ago2023\",\"15ago2023\",\"16ago2023\",\"17ago2023\",\"18ago2023\",\"22ago2023\",\"23ago2023\",\"24ago2023\",\"25ago2023\",\"28ago2023\",\"29ago2023\"],\"xaxis\":\"x\",\"y\":[1750.0,1750.0,1750.0,1725.0,1725.0,1750.0,1750.0,1750.0,1750.0,1750.0,1750.0,1700.0,1750.0,1725.0,1725.0,1713.0,1675.0,1650.0,1650.0],\"yaxis\":\"y\",\"type\":\"scatter\"},{\"hovertemplate\":\"producto=Coco\\u003cbr\\u003efecha=%{x}\\u003cbr\\u003eprecio=%{y}\\u003cextra\\u003e\\u003c\\u002fextra\\u003e\",\"legendgroup\":\"Coco\",\"line\":{\"color\":\"#FFA15A\",\"dash\":\"solid\"},\"marker\":{\"symbol\":\"circle\"},\"mode\":\"lines+markers\",\"name\":\"Coco\",\"orientation\":\"v\",\"showlegend\":true,\"x\":[\"01ago2023\",\"02ago2023\",\"03ago2023\",\"04ago2023\",\"08ago2023\",\"09ago2023\",\"10ago2023\",\"11ago2023\",\"14ago2023\",\"15ago2023\",\"16ago2023\",\"17ago2023\",\"18ago2023\",\"22ago2023\",\"23ago2023\",\"24ago2023\",\"25ago2023\",\"28ago2023\",\"29ago2023\"],\"xaxis\":\"x\",\"y\":[8483.0,8483.0,8483.0,8483.0,8450.0,8483.0,8483.0,8450.0,8403.0,8419.0,8419.0,8403.0,8419.0,8337.0,8337.0,8321.0,8337.0,8353.0,8256.0],\"yaxis\":\"y\",\"type\":\"scatter\"},{\"hovertemplate\":\"producto=Granadilla\\u003cbr\\u003efecha=%{x}\\u003cbr\\u003eprecio=%{y}\\u003cextra\\u003e\\u003c\\u002fextra\\u003e\",\"legendgroup\":\"Granadilla\",\"line\":{\"color\":\"#19d3f3\",\"dash\":\"solid\"},\"marker\":{\"symbol\":\"circle\"},\"mode\":\"lines+markers\",\"name\":\"Granadilla\",\"orientation\":\"v\",\"showlegend\":true,\"x\":[\"01ago2023\",\"02ago2023\",\"03ago2023\",\"04ago2023\",\"08ago2023\",\"09ago2023\",\"10ago2023\",\"11ago2023\",\"14ago2023\",\"15ago2023\",\"16ago2023\",\"17ago2023\",\"18ago2023\",\"22ago2023\",\"23ago2023\",\"24ago2023\",\"25ago2023\",\"28ago2023\",\"29ago2023\"],\"xaxis\":\"x\",\"y\":[5493.0,5010.0,5010.0,5010.0,4838.0,4935.0,4935.0,4641.0,4375.0,5012.0,4788.0,4779.0,5723.0,5983.0,5838.0,6375.0,6308.0,6137.0,6308.0],\"yaxis\":\"y\",\"type\":\"scatter\"},{\"hovertemplate\":\"producto=Guayaba*\\u003cbr\\u003efecha=%{x}\\u003cbr\\u003eprecio=%{y}\\u003cextra\\u003e\\u003c\\u002fextra\\u003e\",\"legendgroup\":\"Guayaba*\",\"line\":{\"color\":\"#FF6692\",\"dash\":\"solid\"},\"marker\":{\"symbol\":\"circle\"},\"mode\":\"lines+markers\",\"name\":\"Guayaba*\",\"orientation\":\"v\",\"showlegend\":true,\"x\":[\"01ago2023\",\"02ago2023\",\"03ago2023\",\"04ago2023\",\"08ago2023\",\"09ago2023\",\"10ago2023\",\"11ago2023\",\"14ago2023\",\"15ago2023\",\"16ago2023\",\"17ago2023\",\"18ago2023\",\"22ago2023\",\"23ago2023\",\"24ago2023\",\"25ago2023\",\"28ago2023\",\"29ago2023\"],\"xaxis\":\"x\",\"y\":[2975.0,3100.0,3100.0,3100.0,2600.0,2700.0,2875.0,2875.0,2925.0,3100.0,3100.0,3125.0,3100.0,3100.0,2675.0,2325.0,2050.0,1900.0,1900.0],\"yaxis\":\"y\",\"type\":\"scatter\"},{\"hovertemplate\":\"producto=Lim\\u00f3n com\\u00fan\\u003cbr\\u003efecha=%{x}\\u003cbr\\u003eprecio=%{y}\\u003cextra\\u003e\\u003c\\u002fextra\\u003e\",\"legendgroup\":\"Lim\\u00f3n com\\u00fan\",\"line\":{\"color\":\"#B6E880\",\"dash\":\"solid\"},\"marker\":{\"symbol\":\"circle\"},\"mode\":\"lines+markers\",\"name\":\"Lim\\u00f3n com\\u00fan\",\"orientation\":\"v\",\"showlegend\":true,\"x\":[\"01ago2023\",\"02ago2023\",\"03ago2023\",\"04ago2023\",\"08ago2023\",\"09ago2023\",\"10ago2023\",\"11ago2023\",\"14ago2023\",\"15ago2023\",\"16ago2023\",\"17ago2023\",\"18ago2023\"],\"xaxis\":\"x\",\"y\":[3014.0,3014.0,3161.0,3161.0,3788.0,3864.0,3895.0,3705.0,3421.0,3336.0,3336.0,3079.0,3358.0],\"yaxis\":\"y\",\"type\":\"scatter\"},{\"hovertemplate\":\"producto=Lim\\u00f3n Tahit\\u00ed\\u003cbr\\u003efecha=%{x}\\u003cbr\\u003eprecio=%{y}\\u003cextra\\u003e\\u003c\\u002fextra\\u003e\",\"legendgroup\":\"Lim\\u00f3n Tahit\\u00ed\",\"line\":{\"color\":\"#FF97FF\",\"dash\":\"solid\"},\"marker\":{\"symbol\":\"circle\"},\"mode\":\"lines+markers\",\"name\":\"Lim\\u00f3n Tahit\\u00ed\",\"orientation\":\"v\",\"showlegend\":true,\"x\":[\"01ago2023\",\"02ago2023\",\"03ago2023\",\"04ago2023\",\"08ago2023\",\"09ago2023\",\"10ago2023\",\"11ago2023\",\"14ago2023\",\"15ago2023\",\"16ago2023\",\"17ago2023\",\"18ago2023\",\"22ago2023\",\"23ago2023\",\"24ago2023\",\"25ago2023\",\"28ago2023\",\"29ago2023\"],\"xaxis\":\"x\",\"y\":[1325.0,1950.0,2075.0,2100.0,1950.0,2050.0,2100.0,1950.0,1775.0,1925.0,1950.0,2425.0,2000.0,2413.0,2425.0,2663.0,2800.0,2975.0,3150.0],\"yaxis\":\"y\",\"type\":\"scatter\"},{\"hovertemplate\":\"producto=Lulo\\u003cbr\\u003efecha=%{x}\\u003cbr\\u003eprecio=%{y}\\u003cextra\\u003e\\u003c\\u002fextra\\u003e\",\"legendgroup\":\"Lulo\",\"line\":{\"color\":\"#FECB52\",\"dash\":\"solid\"},\"marker\":{\"symbol\":\"circle\"},\"mode\":\"lines+markers\",\"name\":\"Lulo\",\"orientation\":\"v\",\"showlegend\":true,\"x\":[\"01ago2023\",\"02ago2023\",\"03ago2023\",\"04ago2023\",\"08ago2023\",\"09ago2023\",\"10ago2023\",\"11ago2023\",\"14ago2023\",\"15ago2023\",\"16ago2023\",\"17ago2023\",\"18ago2023\",\"22ago2023\",\"23ago2023\",\"24ago2023\",\"25ago2023\",\"28ago2023\",\"29ago2023\"],\"xaxis\":\"x\",\"y\":[3725.0,3475.0,3450.0,3450.0,3275.0,3375.0,3375.0,3138.0,3250.0,3100.0,3025.0,3000.0,2800.0,2850.0,2800.0,2625.0,2550.0,2600.0,2550.0],\"yaxis\":\"y\",\"type\":\"scatter\"},{\"hovertemplate\":\"producto=Mandarina*\\u003cbr\\u003efecha=%{x}\\u003cbr\\u003eprecio=%{y}\\u003cextra\\u003e\\u003c\\u002fextra\\u003e\",\"legendgroup\":\"Mandarina*\",\"line\":{\"color\":\"#636efa\",\"dash\":\"solid\"},\"marker\":{\"symbol\":\"circle\"},\"mode\":\"lines+markers\",\"name\":\"Mandarina*\",\"orientation\":\"v\",\"showlegend\":true,\"x\":[\"01ago2023\",\"02ago2023\",\"03ago2023\",\"04ago2023\",\"08ago2023\",\"09ago2023\",\"10ago2023\",\"11ago2023\",\"14ago2023\",\"15ago2023\",\"16ago2023\",\"17ago2023\",\"18ago2023\",\"22ago2023\",\"23ago2023\",\"24ago2023\",\"25ago2023\",\"28ago2023\",\"29ago2023\"],\"xaxis\":\"x\",\"y\":[5100.0,5100.0,5400.0,5400.0,4850.0,4850.0,4925.0,4650.0,4075.0,3700.0,3600.0,3625.0,3900.0,4400.0,4100.0,3575.0,3400.0,3200.0,3100.0],\"yaxis\":\"y\",\"type\":\"scatter\"},{\"hovertemplate\":\"producto=Mango tommy\\u003cbr\\u003efecha=%{x}\\u003cbr\\u003eprecio=%{y}\\u003cextra\\u003e\\u003c\\u002fextra\\u003e\",\"legendgroup\":\"Mango tommy\",\"line\":{\"color\":\"#EF553B\",\"dash\":\"solid\"},\"marker\":{\"symbol\":\"circle\"},\"mode\":\"lines+markers\",\"name\":\"Mango tommy\",\"orientation\":\"v\",\"showlegend\":true,\"x\":[\"01ago2023\",\"03ago2023\",\"04ago2023\",\"08ago2023\",\"09ago2023\",\"10ago2023\",\"11ago2023\",\"14ago2023\",\"15ago2023\",\"16ago2023\",\"17ago2023\",\"18ago2023\",\"22ago2023\",\"23ago2023\",\"24ago2023\",\"25ago2023\",\"28ago2023\",\"29ago2023\"],\"xaxis\":\"x\",\"y\":[8750.0,8667.0,8750.0,8625.0,8625.0,9125.0,8875.0,9125.0,9963.0,9650.0,8925.0,9050.0,8750.0,8225.0,8300.0,8100.0,8050.0,7650.0],\"yaxis\":\"y\",\"type\":\"scatter\"},{\"hovertemplate\":\"producto=Manzana royal gala\\u003cbr\\u003efecha=%{x}\\u003cbr\\u003eprecio=%{y}\\u003cextra\\u003e\\u003c\\u002fextra\\u003e\",\"legendgroup\":\"Manzana royal gala\",\"line\":{\"color\":\"#00cc96\",\"dash\":\"solid\"},\"marker\":{\"symbol\":\"circle\"},\"mode\":\"lines+markers\",\"name\":\"Manzana royal gala\",\"orientation\":\"v\",\"showlegend\":true,\"x\":[\"01ago2023\",\"02ago2023\",\"03ago2023\",\"04ago2023\",\"08ago2023\",\"09ago2023\",\"10ago2023\",\"11ago2023\",\"14ago2023\",\"15ago2023\",\"16ago2023\",\"17ago2023\",\"18ago2023\",\"22ago2023\",\"23ago2023\",\"24ago2023\",\"25ago2023\",\"28ago2023\",\"29ago2023\"],\"xaxis\":\"x\",\"y\":[8553.0,8553.0,8421.0,8553.0,8816.0,8553.0,8618.0,8421.0,8553.0,8553.0,8421.0,8421.0,8224.0,8553.0,8487.0,8553.0,8553.0,8158.0,8224.0],\"yaxis\":\"y\",\"type\":\"scatter\"},{\"hovertemplate\":\"producto=Maracuy\\u00e1\\u003cbr\\u003efecha=%{x}\\u003cbr\\u003eprecio=%{y}\\u003cextra\\u003e\\u003c\\u002fextra\\u003e\",\"legendgroup\":\"Maracuy\\u00e1\",\"line\":{\"color\":\"#ab63fa\",\"dash\":\"solid\"},\"marker\":{\"symbol\":\"circle\"},\"mode\":\"lines+markers\",\"name\":\"Maracuy\\u00e1\",\"orientation\":\"v\",\"showlegend\":true,\"x\":[\"01ago2023\",\"02ago2023\",\"03ago2023\",\"04ago2023\",\"08ago2023\",\"09ago2023\",\"10ago2023\",\"11ago2023\",\"14ago2023\",\"15ago2023\",\"16ago2023\",\"17ago2023\",\"18ago2023\",\"22ago2023\",\"23ago2023\",\"24ago2023\",\"25ago2023\",\"28ago2023\",\"29ago2023\"],\"xaxis\":\"x\",\"y\":[2363.0,2450.0,2725.0,2625.0,2550.0,2525.0,2500.0,2525.0,2500.0,2650.0,2650.0,2950.0,3075.0,2750.0,2725.0,2675.0,2700.0,2525.0,2600.0],\"yaxis\":\"y\",\"type\":\"scatter\"},{\"hovertemplate\":\"producto=Mora de Castilla\\u003cbr\\u003efecha=%{x}\\u003cbr\\u003eprecio=%{y}\\u003cextra\\u003e\\u003c\\u002fextra\\u003e\",\"legendgroup\":\"Mora de Castilla\",\"line\":{\"color\":\"#FFA15A\",\"dash\":\"solid\"},\"marker\":{\"symbol\":\"circle\"},\"mode\":\"lines+markers\",\"name\":\"Mora de Castilla\",\"orientation\":\"v\",\"showlegend\":true,\"x\":[\"01ago2023\",\"02ago2023\",\"03ago2023\",\"04ago2023\",\"08ago2023\",\"09ago2023\",\"10ago2023\",\"11ago2023\",\"15ago2023\",\"16ago2023\",\"17ago2023\",\"18ago2023\",\"22ago2023\",\"23ago2023\",\"24ago2023\",\"25ago2023\",\"29ago2023\"],\"xaxis\":\"x\",\"y\":[3450.0,3700.0,3850.0,3750.0,3200.0,2950.0,2775.0,2763.0,2875.0,2800.0,2850.0,2900.0,2800.0,2750.0,2700.0,2525.0,2750.0],\"yaxis\":\"y\",\"type\":\"scatter\"},{\"hovertemplate\":\"producto=Naranja*\\u003cbr\\u003efecha=%{x}\\u003cbr\\u003eprecio=%{y}\\u003cextra\\u003e\\u003c\\u002fextra\\u003e\",\"legendgroup\":\"Naranja*\",\"line\":{\"color\":\"#19d3f3\",\"dash\":\"solid\"},\"marker\":{\"symbol\":\"circle\"},\"mode\":\"lines+markers\",\"name\":\"Naranja*\",\"orientation\":\"v\",\"showlegend\":true,\"x\":[\"01ago2023\",\"02ago2023\",\"03ago2023\",\"04ago2023\",\"08ago2023\",\"09ago2023\",\"10ago2023\",\"11ago2023\",\"14ago2023\",\"15ago2023\",\"16ago2023\",\"17ago2023\",\"18ago2023\",\"22ago2023\",\"23ago2023\",\"24ago2023\",\"25ago2023\",\"28ago2023\",\"29ago2023\"],\"xaxis\":\"x\",\"y\":[2450.0,2725.0,2750.0,2750.0,2525.0,2475.0,2500.0,2375.0,2150.0,2100.0,2100.0,2275.0,2225.0,2300.0,2250.0,2150.0,2100.0,2100.0,1925.0],\"yaxis\":\"y\",\"type\":\"scatter\"},{\"hovertemplate\":\"producto=Papaya maradol\\u003cbr\\u003efecha=%{x}\\u003cbr\\u003eprecio=%{y}\\u003cextra\\u003e\\u003c\\u002fextra\\u003e\",\"legendgroup\":\"Papaya maradol\",\"line\":{\"color\":\"#FF6692\",\"dash\":\"solid\"},\"marker\":{\"symbol\":\"circle\"},\"mode\":\"lines+markers\",\"name\":\"Papaya maradol\",\"orientation\":\"v\",\"showlegend\":true,\"x\":[\"01ago2023\",\"02ago2023\",\"03ago2023\",\"04ago2023\",\"08ago2023\",\"09ago2023\",\"10ago2023\",\"11ago2023\",\"14ago2023\",\"15ago2023\",\"16ago2023\",\"17ago2023\",\"18ago2023\",\"22ago2023\",\"23ago2023\",\"24ago2023\",\"25ago2023\",\"28ago2023\",\"29ago2023\"],\"xaxis\":\"x\",\"y\":[3300.0,3300.0,3275.0,3325.0,3350.0,3350.0,3225.0,3300.0,3350.0,3300.0,3275.0,3400.0,3288.0,3275.0,3275.0,3300.0,2950.0,3275.0,3125.0],\"yaxis\":\"y\",\"type\":\"scatter\"},{\"hovertemplate\":\"producto=Pi\\u00f1a *\\u003cbr\\u003efecha=%{x}\\u003cbr\\u003eprecio=%{y}\\u003cextra\\u003e\\u003c\\u002fextra\\u003e\",\"legendgroup\":\"Pi\\u00f1a *\",\"line\":{\"color\":\"#B6E880\",\"dash\":\"solid\"},\"marker\":{\"symbol\":\"circle\"},\"mode\":\"lines+markers\",\"name\":\"Pi\\u00f1a *\",\"orientation\":\"v\",\"showlegend\":true,\"x\":[\"01ago2023\",\"02ago2023\",\"03ago2023\",\"04ago2023\",\"08ago2023\",\"09ago2023\",\"10ago2023\",\"11ago2023\",\"14ago2023\",\"15ago2023\",\"16ago2023\",\"17ago2023\",\"18ago2023\",\"22ago2023\",\"23ago2023\",\"24ago2023\",\"25ago2023\",\"28ago2023\",\"29ago2023\"],\"xaxis\":\"x\",\"y\":[3625.0,3575.0,3550.0,3850.0,4050.0,4025.0,4338.0,4325.0,4250.0,4100.0,4225.0,4200.0,4075.0,3925.0,3800.0,3550.0,3375.0,3375.0,3850.0],\"yaxis\":\"y\",\"type\":\"scatter\"},{\"hovertemplate\":\"producto=Tomate de \\u00e1rbol\\u003cbr\\u003efecha=%{x}\\u003cbr\\u003eprecio=%{y}\\u003cextra\\u003e\\u003c\\u002fextra\\u003e\",\"legendgroup\":\"Tomate de \\u00e1rbol\",\"line\":{\"color\":\"#FF97FF\",\"dash\":\"solid\"},\"marker\":{\"symbol\":\"circle\"},\"mode\":\"lines+markers\",\"name\":\"Tomate de \\u00e1rbol\",\"orientation\":\"v\",\"showlegend\":true,\"x\":[\"01ago2023\",\"02ago2023\",\"03ago2023\",\"04ago2023\",\"08ago2023\",\"09ago2023\",\"10ago2023\",\"11ago2023\",\"14ago2023\",\"15ago2023\",\"16ago2023\",\"17ago2023\",\"18ago2023\",\"22ago2023\",\"23ago2023\",\"24ago2023\",\"25ago2023\",\"28ago2023\",\"29ago2023\"],\"xaxis\":\"x\",\"y\":[3100.0,3100.0,3100.0,2950.0,2950.0,2900.0,2900.0,2488.0,2150.0,2275.0,2100.0,2125.0,2175.0,2075.0,2150.0,2100.0,2100.0,2100.0,1975.0],\"yaxis\":\"y\",\"type\":\"scatter\"},{\"hovertemplate\":\"producto=Arracacha*\\u003cbr\\u003efecha=%{x}\\u003cbr\\u003eprecio=%{y}\\u003cextra\\u003e\\u003c\\u002fextra\\u003e\",\"legendgroup\":\"Arracacha*\",\"line\":{\"color\":\"#FECB52\",\"dash\":\"solid\"},\"marker\":{\"symbol\":\"circle\"},\"mode\":\"lines+markers\",\"name\":\"Arracacha*\",\"orientation\":\"v\",\"showlegend\":true,\"x\":[\"01ago2023\",\"02ago2023\",\"03ago2023\",\"04ago2023\",\"08ago2023\",\"09ago2023\",\"10ago2023\",\"11ago2023\",\"14ago2023\",\"15ago2023\",\"16ago2023\",\"17ago2023\",\"18ago2023\",\"22ago2023\",\"23ago2023\",\"24ago2023\",\"25ago2023\",\"28ago2023\",\"29ago2023\"],\"xaxis\":\"x\",\"y\":[4438.0,3781.0,3813.0,3813.0,4375.0,4469.0,3875.0,4125.0,3688.0,3719.0,3844.0,3563.0,3563.0,3781.0,3375.0,3734.0,3688.0,3313.0,3719.0],\"yaxis\":\"y\",\"type\":\"scatter\"},{\"hovertemplate\":\"producto=Papa negra*\\u003cbr\\u003efecha=%{x}\\u003cbr\\u003eprecio=%{y}\\u003cextra\\u003e\\u003c\\u002fextra\\u003e\",\"legendgroup\":\"Papa negra*\",\"line\":{\"color\":\"#636efa\",\"dash\":\"solid\"},\"marker\":{\"symbol\":\"circle\"},\"mode\":\"lines+markers\",\"name\":\"Papa negra*\",\"orientation\":\"v\",\"showlegend\":true,\"x\":[\"01ago2023\",\"02ago2023\",\"03ago2023\",\"04ago2023\",\"08ago2023\",\"09ago2023\",\"10ago2023\",\"11ago2023\",\"14ago2023\",\"15ago2023\",\"16ago2023\",\"17ago2023\",\"18ago2023\",\"22ago2023\",\"23ago2023\",\"24ago2023\",\"25ago2023\",\"28ago2023\",\"29ago2023\"],\"xaxis\":\"x\",\"y\":[1750.0,1850.0,1800.0,1713.0,1613.0,1575.0,1600.0,1600.0,1525.0,1600.0,1650.0,1613.0,1613.0,1650.0,1688.0,1713.0,1700.0,1700.0,1700.0],\"yaxis\":\"y\",\"type\":\"scatter\"},{\"hovertemplate\":\"producto=Papa criolla\\u003cbr\\u003efecha=%{x}\\u003cbr\\u003eprecio=%{y}\\u003cextra\\u003e\\u003c\\u002fextra\\u003e\",\"legendgroup\":\"Papa criolla\",\"line\":{\"color\":\"#EF553B\",\"dash\":\"solid\"},\"marker\":{\"symbol\":\"circle\"},\"mode\":\"lines+markers\",\"name\":\"Papa criolla\",\"orientation\":\"v\",\"showlegend\":true,\"x\":[\"01ago2023\",\"02ago2023\",\"03ago2023\",\"04ago2023\",\"08ago2023\",\"09ago2023\",\"10ago2023\",\"11ago2023\",\"14ago2023\",\"15ago2023\",\"16ago2023\",\"17ago2023\",\"18ago2023\",\"22ago2023\",\"23ago2023\",\"24ago2023\",\"25ago2023\",\"28ago2023\",\"29ago2023\"],\"xaxis\":\"x\",\"y\":[3600.0,3675.0,3050.0,3075.0,3600.0,3475.0,3475.0,3650.0,4625.0,4075.0,3950.0,3525.0,3725.0,3950.0,4150.0,3725.0,3088.0,3938.0,3525.0],\"yaxis\":\"y\",\"type\":\"scatter\"},{\"hovertemplate\":\"producto=Pl\\u00e1tano guineo\\u003cbr\\u003efecha=%{x}\\u003cbr\\u003eprecio=%{y}\\u003cextra\\u003e\\u003c\\u002fextra\\u003e\",\"legendgroup\":\"Pl\\u00e1tano guineo\",\"line\":{\"color\":\"#00cc96\",\"dash\":\"solid\"},\"marker\":{\"symbol\":\"circle\"},\"mode\":\"lines+markers\",\"name\":\"Pl\\u00e1tano guineo\",\"orientation\":\"v\",\"showlegend\":true,\"x\":[\"01ago2023\",\"02ago2023\",\"03ago2023\",\"04ago2023\",\"08ago2023\",\"09ago2023\",\"10ago2023\",\"11ago2023\",\"14ago2023\",\"15ago2023\",\"16ago2023\",\"17ago2023\",\"18ago2023\",\"22ago2023\",\"23ago2023\",\"24ago2023\",\"25ago2023\",\"28ago2023\",\"29ago2023\"],\"xaxis\":\"x\",\"y\":[1300.0,1550.0,1350.0,1563.0,1550.0,1600.0,1250.0,1338.0,1213.0,1150.0,1250.0,1250.0,1375.0,1275.0,1225.0,1325.0,1200.0,1250.0,1250.0],\"yaxis\":\"y\",\"type\":\"scatter\"},{\"hovertemplate\":\"producto=Pl\\u00e1tano hart\\u00f3n verde\\u003cbr\\u003efecha=%{x}\\u003cbr\\u003eprecio=%{y}\\u003cextra\\u003e\\u003c\\u002fextra\\u003e\",\"legendgroup\":\"Pl\\u00e1tano hart\\u00f3n verde\",\"line\":{\"color\":\"#ab63fa\",\"dash\":\"solid\"},\"marker\":{\"symbol\":\"circle\"},\"mode\":\"lines+markers\",\"name\":\"Pl\\u00e1tano hart\\u00f3n verde\",\"orientation\":\"v\",\"showlegend\":true,\"x\":[\"01ago2023\",\"02ago2023\",\"03ago2023\",\"04ago2023\",\"08ago2023\",\"09ago2023\",\"10ago2023\",\"11ago2023\",\"14ago2023\",\"15ago2023\",\"16ago2023\",\"17ago2023\",\"18ago2023\",\"22ago2023\",\"23ago2023\",\"24ago2023\",\"25ago2023\",\"28ago2023\",\"29ago2023\"],\"xaxis\":\"x\",\"y\":[2375.0,2250.0,2250.0,2250.0,2400.0,2425.0,2425.0,2500.0,2500.0,2700.0,2700.0,2713.0,2538.0,2600.0,2600.0,2600.0,2650.0,2650.0,2650.0],\"yaxis\":\"y\",\"type\":\"scatter\"},{\"hovertemplate\":\"producto=Yuca*\\u003cbr\\u003efecha=%{x}\\u003cbr\\u003eprecio=%{y}\\u003cextra\\u003e\\u003c\\u002fextra\\u003e\",\"legendgroup\":\"Yuca*\",\"line\":{\"color\":\"#FFA15A\",\"dash\":\"solid\"},\"marker\":{\"symbol\":\"circle\"},\"mode\":\"lines+markers\",\"name\":\"Yuca*\",\"orientation\":\"v\",\"showlegend\":true,\"x\":[\"01ago2023\",\"02ago2023\",\"03ago2023\",\"04ago2023\",\"08ago2023\",\"09ago2023\",\"10ago2023\",\"11ago2023\",\"14ago2023\",\"15ago2023\",\"16ago2023\",\"17ago2023\",\"18ago2023\",\"22ago2023\",\"23ago2023\",\"24ago2023\",\"25ago2023\",\"28ago2023\",\"29ago2023\"],\"xaxis\":\"x\",\"y\":[1830.0,1820.0,1700.0,1790.0,1760.0,1780.0,1685.0,1700.0,1560.0,1700.0,1605.0,1610.0,1610.0,1610.0,1550.0,1560.0,1445.0,1560.0,1650.0],\"yaxis\":\"y\",\"type\":\"scatter\"}],                        {\"template\":{\"data\":{\"histogram2dcontour\":[{\"type\":\"histogram2dcontour\",\"colorbar\":{\"outlinewidth\":0,\"ticks\":\"\"},\"colorscale\":[[0.0,\"#0d0887\"],[0.1111111111111111,\"#46039f\"],[0.2222222222222222,\"#7201a8\"],[0.3333333333333333,\"#9c179e\"],[0.4444444444444444,\"#bd3786\"],[0.5555555555555556,\"#d8576b\"],[0.6666666666666666,\"#ed7953\"],[0.7777777777777778,\"#fb9f3a\"],[0.8888888888888888,\"#fdca26\"],[1.0,\"#f0f921\"]]}],\"choropleth\":[{\"type\":\"choropleth\",\"colorbar\":{\"outlinewidth\":0,\"ticks\":\"\"}}],\"histogram2d\":[{\"type\":\"histogram2d\",\"colorbar\":{\"outlinewidth\":0,\"ticks\":\"\"},\"colorscale\":[[0.0,\"#0d0887\"],[0.1111111111111111,\"#46039f\"],[0.2222222222222222,\"#7201a8\"],[0.3333333333333333,\"#9c179e\"],[0.4444444444444444,\"#bd3786\"],[0.5555555555555556,\"#d8576b\"],[0.6666666666666666,\"#ed7953\"],[0.7777777777777778,\"#fb9f3a\"],[0.8888888888888888,\"#fdca26\"],[1.0,\"#f0f921\"]]}],\"heatmap\":[{\"type\":\"heatmap\",\"colorbar\":{\"outlinewidth\":0,\"ticks\":\"\"},\"colorscale\":[[0.0,\"#0d0887\"],[0.1111111111111111,\"#46039f\"],[0.2222222222222222,\"#7201a8\"],[0.3333333333333333,\"#9c179e\"],[0.4444444444444444,\"#bd3786\"],[0.5555555555555556,\"#d8576b\"],[0.6666666666666666,\"#ed7953\"],[0.7777777777777778,\"#fb9f3a\"],[0.8888888888888888,\"#fdca26\"],[1.0,\"#f0f921\"]]}],\"heatmapgl\":[{\"type\":\"heatmapgl\",\"colorbar\":{\"outlinewidth\":0,\"ticks\":\"\"},\"colorscale\":[[0.0,\"#0d0887\"],[0.1111111111111111,\"#46039f\"],[0.2222222222222222,\"#7201a8\"],[0.3333333333333333,\"#9c179e\"],[0.4444444444444444,\"#bd3786\"],[0.5555555555555556,\"#d8576b\"],[0.6666666666666666,\"#ed7953\"],[0.7777777777777778,\"#fb9f3a\"],[0.8888888888888888,\"#fdca26\"],[1.0,\"#f0f921\"]]}],\"contourcarpet\":[{\"type\":\"contourcarpet\",\"colorbar\":{\"outlinewidth\":0,\"ticks\":\"\"}}],\"contour\":[{\"type\":\"contour\",\"colorbar\":{\"outlinewidth\":0,\"ticks\":\"\"},\"colorscale\":[[0.0,\"#0d0887\"],[0.1111111111111111,\"#46039f\"],[0.2222222222222222,\"#7201a8\"],[0.3333333333333333,\"#9c179e\"],[0.4444444444444444,\"#bd3786\"],[0.5555555555555556,\"#d8576b\"],[0.6666666666666666,\"#ed7953\"],[0.7777777777777778,\"#fb9f3a\"],[0.8888888888888888,\"#fdca26\"],[1.0,\"#f0f921\"]]}],\"surface\":[{\"type\":\"surface\",\"colorbar\":{\"outlinewidth\":0,\"ticks\":\"\"},\"colorscale\":[[0.0,\"#0d0887\"],[0.1111111111111111,\"#46039f\"],[0.2222222222222222,\"#7201a8\"],[0.3333333333333333,\"#9c179e\"],[0.4444444444444444,\"#bd3786\"],[0.5555555555555556,\"#d8576b\"],[0.6666666666666666,\"#ed7953\"],[0.7777777777777778,\"#fb9f3a\"],[0.8888888888888888,\"#fdca26\"],[1.0,\"#f0f921\"]]}],\"mesh3d\":[{\"type\":\"mesh3d\",\"colorbar\":{\"outlinewidth\":0,\"ticks\":\"\"}}],\"scatter\":[{\"fillpattern\":{\"fillmode\":\"overlay\",\"size\":10,\"solidity\":0.2},\"type\":\"scatter\"}],\"parcoords\":[{\"type\":\"parcoords\",\"line\":{\"colorbar\":{\"outlinewidth\":0,\"ticks\":\"\"}}}],\"scatterpolargl\":[{\"type\":\"scatterpolargl\",\"marker\":{\"colorbar\":{\"outlinewidth\":0,\"ticks\":\"\"}}}],\"bar\":[{\"error_x\":{\"color\":\"#2a3f5f\"},\"error_y\":{\"color\":\"#2a3f5f\"},\"marker\":{\"line\":{\"color\":\"#E5ECF6\",\"width\":0.5},\"pattern\":{\"fillmode\":\"overlay\",\"size\":10,\"solidity\":0.2}},\"type\":\"bar\"}],\"scattergeo\":[{\"type\":\"scattergeo\",\"marker\":{\"colorbar\":{\"outlinewidth\":0,\"ticks\":\"\"}}}],\"scatterpolar\":[{\"type\":\"scatterpolar\",\"marker\":{\"colorbar\":{\"outlinewidth\":0,\"ticks\":\"\"}}}],\"histogram\":[{\"marker\":{\"pattern\":{\"fillmode\":\"overlay\",\"size\":10,\"solidity\":0.2}},\"type\":\"histogram\"}],\"scattergl\":[{\"type\":\"scattergl\",\"marker\":{\"colorbar\":{\"outlinewidth\":0,\"ticks\":\"\"}}}],\"scatter3d\":[{\"type\":\"scatter3d\",\"line\":{\"colorbar\":{\"outlinewidth\":0,\"ticks\":\"\"}},\"marker\":{\"colorbar\":{\"outlinewidth\":0,\"ticks\":\"\"}}}],\"scattermapbox\":[{\"type\":\"scattermapbox\",\"marker\":{\"colorbar\":{\"outlinewidth\":0,\"ticks\":\"\"}}}],\"scatterternary\":[{\"type\":\"scatterternary\",\"marker\":{\"colorbar\":{\"outlinewidth\":0,\"ticks\":\"\"}}}],\"scattercarpet\":[{\"type\":\"scattercarpet\",\"marker\":{\"colorbar\":{\"outlinewidth\":0,\"ticks\":\"\"}}}],\"carpet\":[{\"aaxis\":{\"endlinecolor\":\"#2a3f5f\",\"gridcolor\":\"white\",\"linecolor\":\"white\",\"minorgridcolor\":\"white\",\"startlinecolor\":\"#2a3f5f\"},\"baxis\":{\"endlinecolor\":\"#2a3f5f\",\"gridcolor\":\"white\",\"linecolor\":\"white\",\"minorgridcolor\":\"white\",\"startlinecolor\":\"#2a3f5f\"},\"type\":\"carpet\"}],\"table\":[{\"cells\":{\"fill\":{\"color\":\"#EBF0F8\"},\"line\":{\"color\":\"white\"}},\"header\":{\"fill\":{\"color\":\"#C8D4E3\"},\"line\":{\"color\":\"white\"}},\"type\":\"table\"}],\"barpolar\":[{\"marker\":{\"line\":{\"color\":\"#E5ECF6\",\"width\":0.5},\"pattern\":{\"fillmode\":\"overlay\",\"size\":10,\"solidity\":0.2}},\"type\":\"barpolar\"}],\"pie\":[{\"automargin\":true,\"type\":\"pie\"}]},\"layout\":{\"autotypenumbers\":\"strict\",\"colorway\":[\"#636efa\",\"#EF553B\",\"#00cc96\",\"#ab63fa\",\"#FFA15A\",\"#19d3f3\",\"#FF6692\",\"#B6E880\",\"#FF97FF\",\"#FECB52\"],\"font\":{\"color\":\"#2a3f5f\"},\"hovermode\":\"closest\",\"hoverlabel\":{\"align\":\"left\"},\"paper_bgcolor\":\"white\",\"plot_bgcolor\":\"#E5ECF6\",\"polar\":{\"bgcolor\":\"#E5ECF6\",\"angularaxis\":{\"gridcolor\":\"white\",\"linecolor\":\"white\",\"ticks\":\"\"},\"radialaxis\":{\"gridcolor\":\"white\",\"linecolor\":\"white\",\"ticks\":\"\"}},\"ternary\":{\"bgcolor\":\"#E5ECF6\",\"aaxis\":{\"gridcolor\":\"white\",\"linecolor\":\"white\",\"ticks\":\"\"},\"baxis\":{\"gridcolor\":\"white\",\"linecolor\":\"white\",\"ticks\":\"\"},\"caxis\":{\"gridcolor\":\"white\",\"linecolor\":\"white\",\"ticks\":\"\"}},\"coloraxis\":{\"colorbar\":{\"outlinewidth\":0,\"ticks\":\"\"}},\"colorscale\":{\"sequential\":[[0.0,\"#0d0887\"],[0.1111111111111111,\"#46039f\"],[0.2222222222222222,\"#7201a8\"],[0.3333333333333333,\"#9c179e\"],[0.4444444444444444,\"#bd3786\"],[0.5555555555555556,\"#d8576b\"],[0.6666666666666666,\"#ed7953\"],[0.7777777777777778,\"#fb9f3a\"],[0.8888888888888888,\"#fdca26\"],[1.0,\"#f0f921\"]],\"sequentialminus\":[[0.0,\"#0d0887\"],[0.1111111111111111,\"#46039f\"],[0.2222222222222222,\"#7201a8\"],[0.3333333333333333,\"#9c179e\"],[0.4444444444444444,\"#bd3786\"],[0.5555555555555556,\"#d8576b\"],[0.6666666666666666,\"#ed7953\"],[0.7777777777777778,\"#fb9f3a\"],[0.8888888888888888,\"#fdca26\"],[1.0,\"#f0f921\"]],\"diverging\":[[0,\"#8e0152\"],[0.1,\"#c51b7d\"],[0.2,\"#de77ae\"],[0.3,\"#f1b6da\"],[0.4,\"#fde0ef\"],[0.5,\"#f7f7f7\"],[0.6,\"#e6f5d0\"],[0.7,\"#b8e186\"],[0.8,\"#7fbc41\"],[0.9,\"#4d9221\"],[1,\"#276419\"]]},\"xaxis\":{\"gridcolor\":\"white\",\"linecolor\":\"white\",\"ticks\":\"\",\"title\":{\"standoff\":15},\"zerolinecolor\":\"white\",\"automargin\":true,\"zerolinewidth\":2},\"yaxis\":{\"gridcolor\":\"white\",\"linecolor\":\"white\",\"ticks\":\"\",\"title\":{\"standoff\":15},\"zerolinecolor\":\"white\",\"automargin\":true,\"zerolinewidth\":2},\"scene\":{\"xaxis\":{\"backgroundcolor\":\"#E5ECF6\",\"gridcolor\":\"white\",\"linecolor\":\"white\",\"showbackground\":true,\"ticks\":\"\",\"zerolinecolor\":\"white\",\"gridwidth\":2},\"yaxis\":{\"backgroundcolor\":\"#E5ECF6\",\"gridcolor\":\"white\",\"linecolor\":\"white\",\"showbackground\":true,\"ticks\":\"\",\"zerolinecolor\":\"white\",\"gridwidth\":2},\"zaxis\":{\"backgroundcolor\":\"#E5ECF6\",\"gridcolor\":\"white\",\"linecolor\":\"white\",\"showbackground\":true,\"ticks\":\"\",\"zerolinecolor\":\"white\",\"gridwidth\":2}},\"shapedefaults\":{\"line\":{\"color\":\"#2a3f5f\"}},\"annotationdefaults\":{\"arrowcolor\":\"#2a3f5f\",\"arrowhead\":0,\"arrowwidth\":1},\"geo\":{\"bgcolor\":\"white\",\"landcolor\":\"#E5ECF6\",\"subunitcolor\":\"white\",\"showland\":true,\"showlakes\":true,\"lakecolor\":\"white\"},\"title\":{\"x\":0.05},\"mapbox\":{\"style\":\"light\"}}},\"xaxis\":{\"anchor\":\"y\",\"domain\":[0.0,1.0],\"title\":{\"text\":\"Fecha\"}},\"yaxis\":{\"anchor\":\"x\",\"domain\":[0.0,1.0],\"title\":{\"text\":\"Precio\"}},\"legend\":{\"title\":{\"text\":\"producto\"},\"tracegroupgap\":0},\"title\":{\"text\":\"L\\u00ednea de Tiempo de Precios de Productos en Medell\\u00edn\"}},                        {\"responsive\": true}                    ).then(function(){\n",
              "                            \n",
              "var gd = document.getElementById('2974c0a2-4152-4cf3-b5aa-4eee1e9bd069');\n",
              "var x = new MutationObserver(function (mutations, observer) {{\n",
              "        var display = window.getComputedStyle(gd).display;\n",
              "        if (!display || display === 'none') {{\n",
              "            console.log([gd, 'removed!']);\n",
              "            Plotly.purge(gd);\n",
              "            observer.disconnect();\n",
              "        }}\n",
              "}});\n",
              "\n",
              "// Listen for the removal of the full notebook cells\n",
              "var notebookContainer = gd.closest('#notebook-container');\n",
              "if (notebookContainer) {{\n",
              "    x.observe(notebookContainer, {childList: true});\n",
              "}}\n",
              "\n",
              "// Listen for the clearing of the current output cell\n",
              "var outputEl = gd.closest('.output');\n",
              "if (outputEl) {{\n",
              "    x.observe(outputEl, {childList: true});\n",
              "}}\n",
              "\n",
              "                        })                };                            </script>        </div>\n",
              "</body>\n",
              "</html>"
            ]
          },
          "metadata": {}
        }
      ]
    },
    {
      "cell_type": "markdown",
      "source": [
        "En la línea del tiempo de los precios, se observa entonces todos los productos y su variación en el mes de agosto, mediante un gráfico interactivo, el cuál permite seleccionar cada producto por separado y ver su comportamiento en el mes, esto permite identificar tendencias las cuales pueden ser consecuencias de acontecimientos que surgieron en la ciudad seleccionada en alguna temporada."
      ],
      "metadata": {
        "id": "v03NY4c1YXvc"
      }
    },
    {
      "cell_type": "markdown",
      "source": [
        "**2. ¿Cuál es el precio promedio de un producto en específico para el mes de agosto?**"
      ],
      "metadata": {
        "id": "UOsfYb7pZpa9"
      }
    },
    {
      "cell_type": "code",
      "source": [
        "# Variable para guardar el producto seleccionado\n",
        "productos_unicos = data['producto'].unique()\n",
        "\n",
        "# Crear un widget de lista desplegable para seleccionar el producto\n",
        "producto_dropdown = widgets.Dropdown(\n",
        "    options=productos_unicos,\n",
        "    description='Producto:',\n",
        "    disabled=False\n",
        ")\n",
        "producto_seleccionado = None  # Inicialmente, la variable es None\n",
        "\n",
        "# Conectar la variable con el evento de cambio en la lista desplegable\n",
        "def actualizar_producto_seleccionado(change):\n",
        "    global producto_seleccionado\n",
        "    producto_seleccionado = change.new\n",
        "\n",
        "producto_dropdown.observe(actualizar_producto_seleccionado, names='value')\n",
        "\n",
        "# Mostrar la lista desplegable de los productos\n",
        "display(producto_dropdown)\n"
      ],
      "metadata": {
        "colab": {
          "base_uri": "https://localhost:8080/",
          "height": 49,
          "referenced_widgets": [
            "f21301369299495ab763981e5fdd5902",
            "2b3946a537aa44d5994ae32b0ace371e",
            "860bd96ec3784a82b3f68214be51ee0b"
          ]
        },
        "id": "w6tecTycwV4C",
        "outputId": "c56d62e3-d744-4733-c2ca-d9edd06932a0"
      },
      "execution_count": 33,
      "outputs": [
        {
          "output_type": "display_data",
          "data": {
            "text/plain": [
              "Dropdown(description='Producto:', options=('Arveja verde en vaina', 'Cebolla cabezona blanca', 'Cebolla junca'…"
            ],
            "application/vnd.jupyter.widget-view+json": {
              "version_major": 2,
              "version_minor": 0,
              "model_id": "f21301369299495ab763981e5fdd5902"
            }
          },
          "metadata": {}
        }
      ]
    },
    {
      "cell_type": "code",
      "source": [
        "df_producto = data[data['producto'] == producto_seleccionado]\n",
        "\n",
        "# Calcula el precio promedio por ciudad\n",
        "promedio_ciudad = df_producto.groupby('ciudad')['precio'].mean().reset_index()\n",
        "\n",
        "# Ordena el DataFrame por precio promedio ascendente (ciudad más barata primero)\n",
        "promedio_ciudad = promedio_ciudad.sort_values(by='precio', ascending=True)\n",
        "\n",
        "\n",
        "# Crea un gráfico de barras\n",
        "fig = px.bar(promedio_ciudad, x='ciudad', y='precio',\n",
        "             title=f'Precios Promedio de \"{producto_seleccionado}\" por Ciudad')\n",
        "fig.update_xaxes(title='Ciudad')\n",
        "fig.update_yaxes(title='Precio Promedio')\n",
        "fig.show()\n"
      ],
      "metadata": {
        "colab": {
          "base_uri": "https://localhost:8080/",
          "height": 542
        },
        "id": "t278SAZqvXTH",
        "outputId": "a834fecb-3f55-4ae6-bfde-6e1a73067a5d"
      },
      "execution_count": 34,
      "outputs": [
        {
          "output_type": "display_data",
          "data": {
            "text/html": [
              "<html>\n",
              "<head><meta charset=\"utf-8\" /></head>\n",
              "<body>\n",
              "    <div>            <script src=\"https://cdnjs.cloudflare.com/ajax/libs/mathjax/2.7.5/MathJax.js?config=TeX-AMS-MML_SVG\"></script><script type=\"text/javascript\">if (window.MathJax && window.MathJax.Hub && window.MathJax.Hub.Config) {window.MathJax.Hub.Config({SVG: {font: \"STIX-Web\"}});}</script>                <script type=\"text/javascript\">window.PlotlyConfig = {MathJaxConfig: 'local'};</script>\n",
              "        <script charset=\"utf-8\" src=\"https://cdn.plot.ly/plotly-2.24.1.min.js\"></script>                <div id=\"927a4967-3922-4cdc-b062-4c6030393ff6\" class=\"plotly-graph-div\" style=\"height:525px; width:100%;\"></div>            <script type=\"text/javascript\">                                    window.PLOTLYENV=window.PLOTLYENV || {};                                    if (document.getElementById(\"927a4967-3922-4cdc-b062-4c6030393ff6\")) {                    Plotly.newPlot(                        \"927a4967-3922-4cdc-b062-4c6030393ff6\",                        [{\"alignmentgroup\":\"True\",\"hovertemplate\":\"ciudad=%{x}\\u003cbr\\u003eprecio=%{y}\\u003cextra\\u003e\\u003c\\u002fextra\\u003e\",\"legendgroup\":\"\",\"marker\":{\"color\":\"#636efa\",\"pattern\":{\"shape\":\"\"}},\"name\":\"\",\"offsetgroup\":\"\",\"orientation\":\"v\",\"showlegend\":false,\"textposition\":\"auto\",\"x\":[\"MONTER\\u00cdA\",\"TUNJA\",\"NEIVA\",\"MEDELL\\u00cdN\",\"SINCELEJO\",\"CALI\",\"PASTO\",\"MANIZALES\",\"ARMENIA\",\"VILLAVICENCIO\",\"VALLEDUPAR\",\"PEREIRA\",\"IBAGU\\u00c9\",\"C\\u00daCUTA\",\"CARTAGENA\",\"BOGOT\\u00c1\",\"BARRANQUILLA\",\"POPAY\\u00c1N\",\"BUCARAMANGA\",\"SANTA MARTA\"],\"xaxis\":\"x\",\"y\":[1045.0,1071.4615384615386,1131.6153846153845,1196.7368421052631,1267.5,1267.8181818181818,1550.0,1556.25,1657.4545454545455,1664.3333333333333,1690.9,1728.304347826087,1751.4166666666667,1801.0,1875.2,1908.2105263157894,2029.6,2116.125,2136.75,2138.2631578947367],\"yaxis\":\"y\",\"type\":\"bar\"}],                        {\"template\":{\"data\":{\"histogram2dcontour\":[{\"type\":\"histogram2dcontour\",\"colorbar\":{\"outlinewidth\":0,\"ticks\":\"\"},\"colorscale\":[[0.0,\"#0d0887\"],[0.1111111111111111,\"#46039f\"],[0.2222222222222222,\"#7201a8\"],[0.3333333333333333,\"#9c179e\"],[0.4444444444444444,\"#bd3786\"],[0.5555555555555556,\"#d8576b\"],[0.6666666666666666,\"#ed7953\"],[0.7777777777777778,\"#fb9f3a\"],[0.8888888888888888,\"#fdca26\"],[1.0,\"#f0f921\"]]}],\"choropleth\":[{\"type\":\"choropleth\",\"colorbar\":{\"outlinewidth\":0,\"ticks\":\"\"}}],\"histogram2d\":[{\"type\":\"histogram2d\",\"colorbar\":{\"outlinewidth\":0,\"ticks\":\"\"},\"colorscale\":[[0.0,\"#0d0887\"],[0.1111111111111111,\"#46039f\"],[0.2222222222222222,\"#7201a8\"],[0.3333333333333333,\"#9c179e\"],[0.4444444444444444,\"#bd3786\"],[0.5555555555555556,\"#d8576b\"],[0.6666666666666666,\"#ed7953\"],[0.7777777777777778,\"#fb9f3a\"],[0.8888888888888888,\"#fdca26\"],[1.0,\"#f0f921\"]]}],\"heatmap\":[{\"type\":\"heatmap\",\"colorbar\":{\"outlinewidth\":0,\"ticks\":\"\"},\"colorscale\":[[0.0,\"#0d0887\"],[0.1111111111111111,\"#46039f\"],[0.2222222222222222,\"#7201a8\"],[0.3333333333333333,\"#9c179e\"],[0.4444444444444444,\"#bd3786\"],[0.5555555555555556,\"#d8576b\"],[0.6666666666666666,\"#ed7953\"],[0.7777777777777778,\"#fb9f3a\"],[0.8888888888888888,\"#fdca26\"],[1.0,\"#f0f921\"]]}],\"heatmapgl\":[{\"type\":\"heatmapgl\",\"colorbar\":{\"outlinewidth\":0,\"ticks\":\"\"},\"colorscale\":[[0.0,\"#0d0887\"],[0.1111111111111111,\"#46039f\"],[0.2222222222222222,\"#7201a8\"],[0.3333333333333333,\"#9c179e\"],[0.4444444444444444,\"#bd3786\"],[0.5555555555555556,\"#d8576b\"],[0.6666666666666666,\"#ed7953\"],[0.7777777777777778,\"#fb9f3a\"],[0.8888888888888888,\"#fdca26\"],[1.0,\"#f0f921\"]]}],\"contourcarpet\":[{\"type\":\"contourcarpet\",\"colorbar\":{\"outlinewidth\":0,\"ticks\":\"\"}}],\"contour\":[{\"type\":\"contour\",\"colorbar\":{\"outlinewidth\":0,\"ticks\":\"\"},\"colorscale\":[[0.0,\"#0d0887\"],[0.1111111111111111,\"#46039f\"],[0.2222222222222222,\"#7201a8\"],[0.3333333333333333,\"#9c179e\"],[0.4444444444444444,\"#bd3786\"],[0.5555555555555556,\"#d8576b\"],[0.6666666666666666,\"#ed7953\"],[0.7777777777777778,\"#fb9f3a\"],[0.8888888888888888,\"#fdca26\"],[1.0,\"#f0f921\"]]}],\"surface\":[{\"type\":\"surface\",\"colorbar\":{\"outlinewidth\":0,\"ticks\":\"\"},\"colorscale\":[[0.0,\"#0d0887\"],[0.1111111111111111,\"#46039f\"],[0.2222222222222222,\"#7201a8\"],[0.3333333333333333,\"#9c179e\"],[0.4444444444444444,\"#bd3786\"],[0.5555555555555556,\"#d8576b\"],[0.6666666666666666,\"#ed7953\"],[0.7777777777777778,\"#fb9f3a\"],[0.8888888888888888,\"#fdca26\"],[1.0,\"#f0f921\"]]}],\"mesh3d\":[{\"type\":\"mesh3d\",\"colorbar\":{\"outlinewidth\":0,\"ticks\":\"\"}}],\"scatter\":[{\"fillpattern\":{\"fillmode\":\"overlay\",\"size\":10,\"solidity\":0.2},\"type\":\"scatter\"}],\"parcoords\":[{\"type\":\"parcoords\",\"line\":{\"colorbar\":{\"outlinewidth\":0,\"ticks\":\"\"}}}],\"scatterpolargl\":[{\"type\":\"scatterpolargl\",\"marker\":{\"colorbar\":{\"outlinewidth\":0,\"ticks\":\"\"}}}],\"bar\":[{\"error_x\":{\"color\":\"#2a3f5f\"},\"error_y\":{\"color\":\"#2a3f5f\"},\"marker\":{\"line\":{\"color\":\"#E5ECF6\",\"width\":0.5},\"pattern\":{\"fillmode\":\"overlay\",\"size\":10,\"solidity\":0.2}},\"type\":\"bar\"}],\"scattergeo\":[{\"type\":\"scattergeo\",\"marker\":{\"colorbar\":{\"outlinewidth\":0,\"ticks\":\"\"}}}],\"scatterpolar\":[{\"type\":\"scatterpolar\",\"marker\":{\"colorbar\":{\"outlinewidth\":0,\"ticks\":\"\"}}}],\"histogram\":[{\"marker\":{\"pattern\":{\"fillmode\":\"overlay\",\"size\":10,\"solidity\":0.2}},\"type\":\"histogram\"}],\"scattergl\":[{\"type\":\"scattergl\",\"marker\":{\"colorbar\":{\"outlinewidth\":0,\"ticks\":\"\"}}}],\"scatter3d\":[{\"type\":\"scatter3d\",\"line\":{\"colorbar\":{\"outlinewidth\":0,\"ticks\":\"\"}},\"marker\":{\"colorbar\":{\"outlinewidth\":0,\"ticks\":\"\"}}}],\"scattermapbox\":[{\"type\":\"scattermapbox\",\"marker\":{\"colorbar\":{\"outlinewidth\":0,\"ticks\":\"\"}}}],\"scatterternary\":[{\"type\":\"scatterternary\",\"marker\":{\"colorbar\":{\"outlinewidth\":0,\"ticks\":\"\"}}}],\"scattercarpet\":[{\"type\":\"scattercarpet\",\"marker\":{\"colorbar\":{\"outlinewidth\":0,\"ticks\":\"\"}}}],\"carpet\":[{\"aaxis\":{\"endlinecolor\":\"#2a3f5f\",\"gridcolor\":\"white\",\"linecolor\":\"white\",\"minorgridcolor\":\"white\",\"startlinecolor\":\"#2a3f5f\"},\"baxis\":{\"endlinecolor\":\"#2a3f5f\",\"gridcolor\":\"white\",\"linecolor\":\"white\",\"minorgridcolor\":\"white\",\"startlinecolor\":\"#2a3f5f\"},\"type\":\"carpet\"}],\"table\":[{\"cells\":{\"fill\":{\"color\":\"#EBF0F8\"},\"line\":{\"color\":\"white\"}},\"header\":{\"fill\":{\"color\":\"#C8D4E3\"},\"line\":{\"color\":\"white\"}},\"type\":\"table\"}],\"barpolar\":[{\"marker\":{\"line\":{\"color\":\"#E5ECF6\",\"width\":0.5},\"pattern\":{\"fillmode\":\"overlay\",\"size\":10,\"solidity\":0.2}},\"type\":\"barpolar\"}],\"pie\":[{\"automargin\":true,\"type\":\"pie\"}]},\"layout\":{\"autotypenumbers\":\"strict\",\"colorway\":[\"#636efa\",\"#EF553B\",\"#00cc96\",\"#ab63fa\",\"#FFA15A\",\"#19d3f3\",\"#FF6692\",\"#B6E880\",\"#FF97FF\",\"#FECB52\"],\"font\":{\"color\":\"#2a3f5f\"},\"hovermode\":\"closest\",\"hoverlabel\":{\"align\":\"left\"},\"paper_bgcolor\":\"white\",\"plot_bgcolor\":\"#E5ECF6\",\"polar\":{\"bgcolor\":\"#E5ECF6\",\"angularaxis\":{\"gridcolor\":\"white\",\"linecolor\":\"white\",\"ticks\":\"\"},\"radialaxis\":{\"gridcolor\":\"white\",\"linecolor\":\"white\",\"ticks\":\"\"}},\"ternary\":{\"bgcolor\":\"#E5ECF6\",\"aaxis\":{\"gridcolor\":\"white\",\"linecolor\":\"white\",\"ticks\":\"\"},\"baxis\":{\"gridcolor\":\"white\",\"linecolor\":\"white\",\"ticks\":\"\"},\"caxis\":{\"gridcolor\":\"white\",\"linecolor\":\"white\",\"ticks\":\"\"}},\"coloraxis\":{\"colorbar\":{\"outlinewidth\":0,\"ticks\":\"\"}},\"colorscale\":{\"sequential\":[[0.0,\"#0d0887\"],[0.1111111111111111,\"#46039f\"],[0.2222222222222222,\"#7201a8\"],[0.3333333333333333,\"#9c179e\"],[0.4444444444444444,\"#bd3786\"],[0.5555555555555556,\"#d8576b\"],[0.6666666666666666,\"#ed7953\"],[0.7777777777777778,\"#fb9f3a\"],[0.8888888888888888,\"#fdca26\"],[1.0,\"#f0f921\"]],\"sequentialminus\":[[0.0,\"#0d0887\"],[0.1111111111111111,\"#46039f\"],[0.2222222222222222,\"#7201a8\"],[0.3333333333333333,\"#9c179e\"],[0.4444444444444444,\"#bd3786\"],[0.5555555555555556,\"#d8576b\"],[0.6666666666666666,\"#ed7953\"],[0.7777777777777778,\"#fb9f3a\"],[0.8888888888888888,\"#fdca26\"],[1.0,\"#f0f921\"]],\"diverging\":[[0,\"#8e0152\"],[0.1,\"#c51b7d\"],[0.2,\"#de77ae\"],[0.3,\"#f1b6da\"],[0.4,\"#fde0ef\"],[0.5,\"#f7f7f7\"],[0.6,\"#e6f5d0\"],[0.7,\"#b8e186\"],[0.8,\"#7fbc41\"],[0.9,\"#4d9221\"],[1,\"#276419\"]]},\"xaxis\":{\"gridcolor\":\"white\",\"linecolor\":\"white\",\"ticks\":\"\",\"title\":{\"standoff\":15},\"zerolinecolor\":\"white\",\"automargin\":true,\"zerolinewidth\":2},\"yaxis\":{\"gridcolor\":\"white\",\"linecolor\":\"white\",\"ticks\":\"\",\"title\":{\"standoff\":15},\"zerolinecolor\":\"white\",\"automargin\":true,\"zerolinewidth\":2},\"scene\":{\"xaxis\":{\"backgroundcolor\":\"#E5ECF6\",\"gridcolor\":\"white\",\"linecolor\":\"white\",\"showbackground\":true,\"ticks\":\"\",\"zerolinecolor\":\"white\",\"gridwidth\":2},\"yaxis\":{\"backgroundcolor\":\"#E5ECF6\",\"gridcolor\":\"white\",\"linecolor\":\"white\",\"showbackground\":true,\"ticks\":\"\",\"zerolinecolor\":\"white\",\"gridwidth\":2},\"zaxis\":{\"backgroundcolor\":\"#E5ECF6\",\"gridcolor\":\"white\",\"linecolor\":\"white\",\"showbackground\":true,\"ticks\":\"\",\"zerolinecolor\":\"white\",\"gridwidth\":2}},\"shapedefaults\":{\"line\":{\"color\":\"#2a3f5f\"}},\"annotationdefaults\":{\"arrowcolor\":\"#2a3f5f\",\"arrowhead\":0,\"arrowwidth\":1},\"geo\":{\"bgcolor\":\"white\",\"landcolor\":\"#E5ECF6\",\"subunitcolor\":\"white\",\"showland\":true,\"showlakes\":true,\"lakecolor\":\"white\"},\"title\":{\"x\":0.05},\"mapbox\":{\"style\":\"light\"}}},\"xaxis\":{\"anchor\":\"y\",\"domain\":[0.0,1.0],\"title\":{\"text\":\"Ciudad\"}},\"yaxis\":{\"anchor\":\"x\",\"domain\":[0.0,1.0],\"title\":{\"text\":\"Precio Promedio\"}},\"legend\":{\"tracegroupgap\":0},\"title\":{\"text\":\"Precios Promedio de \\\"Piment\\u00f3n\\\" por Ciudad\"},\"barmode\":\"relative\"},                        {\"responsive\": true}                    ).then(function(){\n",
              "                            \n",
              "var gd = document.getElementById('927a4967-3922-4cdc-b062-4c6030393ff6');\n",
              "var x = new MutationObserver(function (mutations, observer) {{\n",
              "        var display = window.getComputedStyle(gd).display;\n",
              "        if (!display || display === 'none') {{\n",
              "            console.log([gd, 'removed!']);\n",
              "            Plotly.purge(gd);\n",
              "            observer.disconnect();\n",
              "        }}\n",
              "}});\n",
              "\n",
              "// Listen for the removal of the full notebook cells\n",
              "var notebookContainer = gd.closest('#notebook-container');\n",
              "if (notebookContainer) {{\n",
              "    x.observe(notebookContainer, {childList: true});\n",
              "}}\n",
              "\n",
              "// Listen for the clearing of the current output cell\n",
              "var outputEl = gd.closest('.output');\n",
              "if (outputEl) {{\n",
              "    x.observe(outputEl, {childList: true});\n",
              "}}\n",
              "\n",
              "                        })                };                            </script>        </div>\n",
              "</body>\n",
              "</html>"
            ]
          },
          "metadata": {}
        }
      ]
    },
    {
      "cell_type": "markdown",
      "source": [
        "El gráfico anterior, muestra el comportamiento del precio de un producto en específico en cada una de las ciudades, esto puede ser importante para un comprador externo que quiera comprar el producto y revisar en qué ciudad puede ser más barato, también, para compradores cercanos a alguna de las ciudades que no están en la base de datos, identificar cuál centro de abastos es más conveniente para comprar el producto."
      ],
      "metadata": {
        "id": "mkINmYWKaVsE"
      }
    },
    {
      "cell_type": "markdown",
      "source": [
        "**3. ¿Cómo varía el precio promedio de un producto seleccionado en las zonas o ciudades cercanas?**"
      ],
      "metadata": {
        "id": "lzD-Px246NM6"
      }
    },
    {
      "cell_type": "code",
      "source": [
        "# Filtra los datos para el producto seleccionado\n",
        "df_producto2 = data[data['producto'] == producto_seleccionado]\n",
        "\n",
        "# Calcula el precio promedio, latitud y longitud por ciudad\n",
        "promedio_ciudad = df_producto2.groupby('ciudad').agg({\n",
        "    'precio': 'mean',\n",
        "    'LATITUD': 'first',\n",
        "    'LONGITUD': 'first'\n",
        "}).reset_index()\n",
        "\n",
        "# Crea un mapa de calor\n",
        "fig = px.scatter_geo(promedio_ciudad, lat='LATITUD', lon='LONGITUD', color='precio',\n",
        "                     hover_name='ciudad', projection='natural earth',\n",
        "                     title=f'Mapa de Calor del Precio Promedio de \"{producto_seleccionado}\" por Ciudad')\n",
        "\n",
        "fig.update_traces(marker=dict(size=7))\n",
        "\n",
        "# Muestra el mapa interactivo\n",
        "fig.show()\n"
      ],
      "metadata": {
        "colab": {
          "base_uri": "https://localhost:8080/",
          "height": 542
        },
        "id": "_HDWn-vjMXIO",
        "outputId": "e0929c00-2144-4c38-a803-1e14a16c9229"
      },
      "execution_count": 35,
      "outputs": [
        {
          "output_type": "display_data",
          "data": {
            "text/html": [
              "<html>\n",
              "<head><meta charset=\"utf-8\" /></head>\n",
              "<body>\n",
              "    <div>            <script src=\"https://cdnjs.cloudflare.com/ajax/libs/mathjax/2.7.5/MathJax.js?config=TeX-AMS-MML_SVG\"></script><script type=\"text/javascript\">if (window.MathJax && window.MathJax.Hub && window.MathJax.Hub.Config) {window.MathJax.Hub.Config({SVG: {font: \"STIX-Web\"}});}</script>                <script type=\"text/javascript\">window.PlotlyConfig = {MathJaxConfig: 'local'};</script>\n",
              "        <script charset=\"utf-8\" src=\"https://cdn.plot.ly/plotly-2.24.1.min.js\"></script>                <div id=\"9f3c6123-4afe-45ea-b3d3-85f4b45a18da\" class=\"plotly-graph-div\" style=\"height:525px; width:100%;\"></div>            <script type=\"text/javascript\">                                    window.PLOTLYENV=window.PLOTLYENV || {};                                    if (document.getElementById(\"9f3c6123-4afe-45ea-b3d3-85f4b45a18da\")) {                    Plotly.newPlot(                        \"9f3c6123-4afe-45ea-b3d3-85f4b45a18da\",                        [{\"geo\":\"geo\",\"hovertemplate\":\"\\u003cb\\u003e%{hovertext}\\u003c\\u002fb\\u003e\\u003cbr\\u003e\\u003cbr\\u003eLATITUD=%{lat}\\u003cbr\\u003eLONGITUD=%{lon}\\u003cbr\\u003eprecio=%{marker.color}\\u003cextra\\u003e\\u003c\\u002fextra\\u003e\",\"hovertext\":[\"ARMENIA\",\"BARRANQUILLA\",\"BOGOT\\u00c1\",\"BUCARAMANGA\",\"CALI\",\"CARTAGENA\",\"C\\u00daCUTA\",\"IBAGU\\u00c9\",\"MANIZALES\",\"MEDELL\\u00cdN\",\"MONTER\\u00cdA\",\"NEIVA\",\"PASTO\",\"PEREIRA\",\"POPAY\\u00c1N\",\"SANTA MARTA\",\"SINCELEJO\",\"TUNJA\",\"VALLEDUPAR\",\"VILLAVICENCIO\"],\"lat\":[4.499501128,10.98152051,4.316107698,7.155833544,3.399043723,10.4,7.89391,4.451921427,5.08343301,6.257590259,8.584698016,2.993360046,1.083605497,4.803662773,2.471704362,11.12189436,9.316673928,5.518472615,10.21890277,4.09166877],\"legendgroup\":\"\",\"lon\":[-75.72489985,-74.82771544,-74.1810727,-73.11156997,-76.57649259,-75.5,-72.50782,-75.252591,-75.50727881,-75.61103107,-75.95055079,-75.27236232,-77.20610074,-75.79579093,-76.59194419,-73.88527855,-75.43174967,-73.37801856,-73.45784764,-73.49291595],\"marker\":{\"color\":[1657.4545454545455,2029.6,1908.2105263157894,2136.75,1267.8181818181818,1875.2,1801.0,1751.4166666666667,1556.25,1196.7368421052631,1045.0,1131.6153846153845,1550.0,1728.304347826087,2116.125,2138.2631578947367,1267.5,1071.4615384615386,1690.9,1664.3333333333333],\"coloraxis\":\"coloraxis\",\"symbol\":\"circle\",\"size\":7},\"mode\":\"markers\",\"name\":\"\",\"showlegend\":false,\"type\":\"scattergeo\"}],                        {\"template\":{\"data\":{\"histogram2dcontour\":[{\"type\":\"histogram2dcontour\",\"colorbar\":{\"outlinewidth\":0,\"ticks\":\"\"},\"colorscale\":[[0.0,\"#0d0887\"],[0.1111111111111111,\"#46039f\"],[0.2222222222222222,\"#7201a8\"],[0.3333333333333333,\"#9c179e\"],[0.4444444444444444,\"#bd3786\"],[0.5555555555555556,\"#d8576b\"],[0.6666666666666666,\"#ed7953\"],[0.7777777777777778,\"#fb9f3a\"],[0.8888888888888888,\"#fdca26\"],[1.0,\"#f0f921\"]]}],\"choropleth\":[{\"type\":\"choropleth\",\"colorbar\":{\"outlinewidth\":0,\"ticks\":\"\"}}],\"histogram2d\":[{\"type\":\"histogram2d\",\"colorbar\":{\"outlinewidth\":0,\"ticks\":\"\"},\"colorscale\":[[0.0,\"#0d0887\"],[0.1111111111111111,\"#46039f\"],[0.2222222222222222,\"#7201a8\"],[0.3333333333333333,\"#9c179e\"],[0.4444444444444444,\"#bd3786\"],[0.5555555555555556,\"#d8576b\"],[0.6666666666666666,\"#ed7953\"],[0.7777777777777778,\"#fb9f3a\"],[0.8888888888888888,\"#fdca26\"],[1.0,\"#f0f921\"]]}],\"heatmap\":[{\"type\":\"heatmap\",\"colorbar\":{\"outlinewidth\":0,\"ticks\":\"\"},\"colorscale\":[[0.0,\"#0d0887\"],[0.1111111111111111,\"#46039f\"],[0.2222222222222222,\"#7201a8\"],[0.3333333333333333,\"#9c179e\"],[0.4444444444444444,\"#bd3786\"],[0.5555555555555556,\"#d8576b\"],[0.6666666666666666,\"#ed7953\"],[0.7777777777777778,\"#fb9f3a\"],[0.8888888888888888,\"#fdca26\"],[1.0,\"#f0f921\"]]}],\"heatmapgl\":[{\"type\":\"heatmapgl\",\"colorbar\":{\"outlinewidth\":0,\"ticks\":\"\"},\"colorscale\":[[0.0,\"#0d0887\"],[0.1111111111111111,\"#46039f\"],[0.2222222222222222,\"#7201a8\"],[0.3333333333333333,\"#9c179e\"],[0.4444444444444444,\"#bd3786\"],[0.5555555555555556,\"#d8576b\"],[0.6666666666666666,\"#ed7953\"],[0.7777777777777778,\"#fb9f3a\"],[0.8888888888888888,\"#fdca26\"],[1.0,\"#f0f921\"]]}],\"contourcarpet\":[{\"type\":\"contourcarpet\",\"colorbar\":{\"outlinewidth\":0,\"ticks\":\"\"}}],\"contour\":[{\"type\":\"contour\",\"colorbar\":{\"outlinewidth\":0,\"ticks\":\"\"},\"colorscale\":[[0.0,\"#0d0887\"],[0.1111111111111111,\"#46039f\"],[0.2222222222222222,\"#7201a8\"],[0.3333333333333333,\"#9c179e\"],[0.4444444444444444,\"#bd3786\"],[0.5555555555555556,\"#d8576b\"],[0.6666666666666666,\"#ed7953\"],[0.7777777777777778,\"#fb9f3a\"],[0.8888888888888888,\"#fdca26\"],[1.0,\"#f0f921\"]]}],\"surface\":[{\"type\":\"surface\",\"colorbar\":{\"outlinewidth\":0,\"ticks\":\"\"},\"colorscale\":[[0.0,\"#0d0887\"],[0.1111111111111111,\"#46039f\"],[0.2222222222222222,\"#7201a8\"],[0.3333333333333333,\"#9c179e\"],[0.4444444444444444,\"#bd3786\"],[0.5555555555555556,\"#d8576b\"],[0.6666666666666666,\"#ed7953\"],[0.7777777777777778,\"#fb9f3a\"],[0.8888888888888888,\"#fdca26\"],[1.0,\"#f0f921\"]]}],\"mesh3d\":[{\"type\":\"mesh3d\",\"colorbar\":{\"outlinewidth\":0,\"ticks\":\"\"}}],\"scatter\":[{\"fillpattern\":{\"fillmode\":\"overlay\",\"size\":10,\"solidity\":0.2},\"type\":\"scatter\"}],\"parcoords\":[{\"type\":\"parcoords\",\"line\":{\"colorbar\":{\"outlinewidth\":0,\"ticks\":\"\"}}}],\"scatterpolargl\":[{\"type\":\"scatterpolargl\",\"marker\":{\"colorbar\":{\"outlinewidth\":0,\"ticks\":\"\"}}}],\"bar\":[{\"error_x\":{\"color\":\"#2a3f5f\"},\"error_y\":{\"color\":\"#2a3f5f\"},\"marker\":{\"line\":{\"color\":\"#E5ECF6\",\"width\":0.5},\"pattern\":{\"fillmode\":\"overlay\",\"size\":10,\"solidity\":0.2}},\"type\":\"bar\"}],\"scattergeo\":[{\"type\":\"scattergeo\",\"marker\":{\"colorbar\":{\"outlinewidth\":0,\"ticks\":\"\"}}}],\"scatterpolar\":[{\"type\":\"scatterpolar\",\"marker\":{\"colorbar\":{\"outlinewidth\":0,\"ticks\":\"\"}}}],\"histogram\":[{\"marker\":{\"pattern\":{\"fillmode\":\"overlay\",\"size\":10,\"solidity\":0.2}},\"type\":\"histogram\"}],\"scattergl\":[{\"type\":\"scattergl\",\"marker\":{\"colorbar\":{\"outlinewidth\":0,\"ticks\":\"\"}}}],\"scatter3d\":[{\"type\":\"scatter3d\",\"line\":{\"colorbar\":{\"outlinewidth\":0,\"ticks\":\"\"}},\"marker\":{\"colorbar\":{\"outlinewidth\":0,\"ticks\":\"\"}}}],\"scattermapbox\":[{\"type\":\"scattermapbox\",\"marker\":{\"colorbar\":{\"outlinewidth\":0,\"ticks\":\"\"}}}],\"scatterternary\":[{\"type\":\"scatterternary\",\"marker\":{\"colorbar\":{\"outlinewidth\":0,\"ticks\":\"\"}}}],\"scattercarpet\":[{\"type\":\"scattercarpet\",\"marker\":{\"colorbar\":{\"outlinewidth\":0,\"ticks\":\"\"}}}],\"carpet\":[{\"aaxis\":{\"endlinecolor\":\"#2a3f5f\",\"gridcolor\":\"white\",\"linecolor\":\"white\",\"minorgridcolor\":\"white\",\"startlinecolor\":\"#2a3f5f\"},\"baxis\":{\"endlinecolor\":\"#2a3f5f\",\"gridcolor\":\"white\",\"linecolor\":\"white\",\"minorgridcolor\":\"white\",\"startlinecolor\":\"#2a3f5f\"},\"type\":\"carpet\"}],\"table\":[{\"cells\":{\"fill\":{\"color\":\"#EBF0F8\"},\"line\":{\"color\":\"white\"}},\"header\":{\"fill\":{\"color\":\"#C8D4E3\"},\"line\":{\"color\":\"white\"}},\"type\":\"table\"}],\"barpolar\":[{\"marker\":{\"line\":{\"color\":\"#E5ECF6\",\"width\":0.5},\"pattern\":{\"fillmode\":\"overlay\",\"size\":10,\"solidity\":0.2}},\"type\":\"barpolar\"}],\"pie\":[{\"automargin\":true,\"type\":\"pie\"}]},\"layout\":{\"autotypenumbers\":\"strict\",\"colorway\":[\"#636efa\",\"#EF553B\",\"#00cc96\",\"#ab63fa\",\"#FFA15A\",\"#19d3f3\",\"#FF6692\",\"#B6E880\",\"#FF97FF\",\"#FECB52\"],\"font\":{\"color\":\"#2a3f5f\"},\"hovermode\":\"closest\",\"hoverlabel\":{\"align\":\"left\"},\"paper_bgcolor\":\"white\",\"plot_bgcolor\":\"#E5ECF6\",\"polar\":{\"bgcolor\":\"#E5ECF6\",\"angularaxis\":{\"gridcolor\":\"white\",\"linecolor\":\"white\",\"ticks\":\"\"},\"radialaxis\":{\"gridcolor\":\"white\",\"linecolor\":\"white\",\"ticks\":\"\"}},\"ternary\":{\"bgcolor\":\"#E5ECF6\",\"aaxis\":{\"gridcolor\":\"white\",\"linecolor\":\"white\",\"ticks\":\"\"},\"baxis\":{\"gridcolor\":\"white\",\"linecolor\":\"white\",\"ticks\":\"\"},\"caxis\":{\"gridcolor\":\"white\",\"linecolor\":\"white\",\"ticks\":\"\"}},\"coloraxis\":{\"colorbar\":{\"outlinewidth\":0,\"ticks\":\"\"}},\"colorscale\":{\"sequential\":[[0.0,\"#0d0887\"],[0.1111111111111111,\"#46039f\"],[0.2222222222222222,\"#7201a8\"],[0.3333333333333333,\"#9c179e\"],[0.4444444444444444,\"#bd3786\"],[0.5555555555555556,\"#d8576b\"],[0.6666666666666666,\"#ed7953\"],[0.7777777777777778,\"#fb9f3a\"],[0.8888888888888888,\"#fdca26\"],[1.0,\"#f0f921\"]],\"sequentialminus\":[[0.0,\"#0d0887\"],[0.1111111111111111,\"#46039f\"],[0.2222222222222222,\"#7201a8\"],[0.3333333333333333,\"#9c179e\"],[0.4444444444444444,\"#bd3786\"],[0.5555555555555556,\"#d8576b\"],[0.6666666666666666,\"#ed7953\"],[0.7777777777777778,\"#fb9f3a\"],[0.8888888888888888,\"#fdca26\"],[1.0,\"#f0f921\"]],\"diverging\":[[0,\"#8e0152\"],[0.1,\"#c51b7d\"],[0.2,\"#de77ae\"],[0.3,\"#f1b6da\"],[0.4,\"#fde0ef\"],[0.5,\"#f7f7f7\"],[0.6,\"#e6f5d0\"],[0.7,\"#b8e186\"],[0.8,\"#7fbc41\"],[0.9,\"#4d9221\"],[1,\"#276419\"]]},\"xaxis\":{\"gridcolor\":\"white\",\"linecolor\":\"white\",\"ticks\":\"\",\"title\":{\"standoff\":15},\"zerolinecolor\":\"white\",\"automargin\":true,\"zerolinewidth\":2},\"yaxis\":{\"gridcolor\":\"white\",\"linecolor\":\"white\",\"ticks\":\"\",\"title\":{\"standoff\":15},\"zerolinecolor\":\"white\",\"automargin\":true,\"zerolinewidth\":2},\"scene\":{\"xaxis\":{\"backgroundcolor\":\"#E5ECF6\",\"gridcolor\":\"white\",\"linecolor\":\"white\",\"showbackground\":true,\"ticks\":\"\",\"zerolinecolor\":\"white\",\"gridwidth\":2},\"yaxis\":{\"backgroundcolor\":\"#E5ECF6\",\"gridcolor\":\"white\",\"linecolor\":\"white\",\"showbackground\":true,\"ticks\":\"\",\"zerolinecolor\":\"white\",\"gridwidth\":2},\"zaxis\":{\"backgroundcolor\":\"#E5ECF6\",\"gridcolor\":\"white\",\"linecolor\":\"white\",\"showbackground\":true,\"ticks\":\"\",\"zerolinecolor\":\"white\",\"gridwidth\":2}},\"shapedefaults\":{\"line\":{\"color\":\"#2a3f5f\"}},\"annotationdefaults\":{\"arrowcolor\":\"#2a3f5f\",\"arrowhead\":0,\"arrowwidth\":1},\"geo\":{\"bgcolor\":\"white\",\"landcolor\":\"#E5ECF6\",\"subunitcolor\":\"white\",\"showland\":true,\"showlakes\":true,\"lakecolor\":\"white\"},\"title\":{\"x\":0.05},\"mapbox\":{\"style\":\"light\"}}},\"geo\":{\"domain\":{\"x\":[0.0,1.0],\"y\":[0.0,1.0]},\"projection\":{\"type\":\"natural earth\"},\"center\":{}},\"coloraxis\":{\"colorbar\":{\"title\":{\"text\":\"precio\"}},\"colorscale\":[[0.0,\"#0d0887\"],[0.1111111111111111,\"#46039f\"],[0.2222222222222222,\"#7201a8\"],[0.3333333333333333,\"#9c179e\"],[0.4444444444444444,\"#bd3786\"],[0.5555555555555556,\"#d8576b\"],[0.6666666666666666,\"#ed7953\"],[0.7777777777777778,\"#fb9f3a\"],[0.8888888888888888,\"#fdca26\"],[1.0,\"#f0f921\"]]},\"legend\":{\"tracegroupgap\":0},\"title\":{\"text\":\"Mapa de Calor del Precio Promedio de \\\"Piment\\u00f3n\\\" por Ciudad\"}},                        {\"responsive\": true}                    ).then(function(){\n",
              "                            \n",
              "var gd = document.getElementById('9f3c6123-4afe-45ea-b3d3-85f4b45a18da');\n",
              "var x = new MutationObserver(function (mutations, observer) {{\n",
              "        var display = window.getComputedStyle(gd).display;\n",
              "        if (!display || display === 'none') {{\n",
              "            console.log([gd, 'removed!']);\n",
              "            Plotly.purge(gd);\n",
              "            observer.disconnect();\n",
              "        }}\n",
              "}});\n",
              "\n",
              "// Listen for the removal of the full notebook cells\n",
              "var notebookContainer = gd.closest('#notebook-container');\n",
              "if (notebookContainer) {{\n",
              "    x.observe(notebookContainer, {childList: true});\n",
              "}}\n",
              "\n",
              "// Listen for the clearing of the current output cell\n",
              "var outputEl = gd.closest('.output');\n",
              "if (outputEl) {{\n",
              "    x.observe(outputEl, {childList: true});\n",
              "}}\n",
              "\n",
              "                        })                };                            </script>        </div>\n",
              "</body>\n",
              "</html>"
            ]
          },
          "metadata": {}
        }
      ]
    },
    {
      "cell_type": "markdown",
      "source": [
        "Consecuente con el gráfico de precios promedio por ciudad se plantea un mapa de calor, utilizando la latitud y longitud para el producto seleccionado, con el fin de identificar qué tan cercano se encuentran los centros de abastos y cómo es su precio promedio, ésto puede ser una alternativa o una oportunidad de negociación entre centros de abastos cercanos o para escoger un proveedor para este producto. Entrarían entonces nuevas variables que pueden ser asociadas a tiempos de entrega y costos de transporte."
      ],
      "metadata": {
        "id": "Q3STRMQIbgtF"
      }
    },
    {
      "cell_type": "markdown",
      "source": [
        "**4. ¿Cómo se distribuye el precio de cada uno de los productos?**"
      ],
      "metadata": {
        "id": "33N9g6PU6dsF"
      }
    },
    {
      "cell_type": "code",
      "source": [
        "# Crear un boxplot para cada producto en una sola figura\n",
        "plt.figure(figsize=(12, 8))  # Ajusta el tamaño del gráfico según tus preferencias\n",
        "\n",
        "# Agrupa los datos por 'producto' y crea un boxplot para cada grupo\n",
        "ax = sns.boxplot(x='producto', y='precio', data=data)\n",
        "ax.set_xlabel('Producto')\n",
        "ax.set_ylabel('Precio')\n",
        "ax.set_title('Distribución de Precios por Producto')\n",
        "ax.set_xticklabels(ax.get_xticklabels(), rotation=90)  # Rota las etiquetas del eje x para una mejor legibilidad\n",
        "plt.show()\n"
      ],
      "metadata": {
        "colab": {
          "base_uri": "https://localhost:8080/",
          "height": 879
        },
        "id": "fARHSkUVq7DN",
        "outputId": "efe7352c-d0da-4fce-94e5-793dbb2024f2"
      },
      "execution_count": 36,
      "outputs": [
        {
          "output_type": "display_data",
          "data": {
            "text/plain": [
              "<Figure size 1200x800 with 1 Axes>"
            ],
            "image/png": "[encoded data removed]"
          },
          "metadata": {}
        }
      ]
    },
    {
      "cell_type": "markdown",
      "source": [
        "Para cada uno de los productos es pertinente revisar cómo es la variación en sus precios en todas la ciudades con el fin de identificar datos atípicos, sin embargo estos datos pueden estar asociados a ciertas ciudades en las que en casos extremos tuvieron que aumentar o disminuir el precio de sus productos."
      ],
      "metadata": {
        "id": "D3g-qvdj-4qt"
      }
    },
    {
      "cell_type": "markdown",
      "source": [
        "**5. ¿Cómo es el precio promedio de los productos en las distintas zonas asignadas?**"
      ],
      "metadata": {
        "id": "NLk6P1koEt7g"
      }
    },
    {
      "cell_type": "code",
      "source": [
        "# Calcula el precio promedio por producto y zona\n",
        "promedio_zona = data.groupby(['producto', 'zona'])['precio'].mean().reset_index()\n",
        "\n",
        "# Crea el gráfico de barras\n",
        "fig = px.bar(promedio_zona, x='producto', y='precio', color='zona',\n",
        "             labels={'producto': 'Producto', 'precio': 'Precio Promedio'},\n",
        "             title='Precio Promedio de Productos por Zona')\n",
        "\n",
        "# Mostrar el gráfico\n",
        "fig.show()"
      ],
      "metadata": {
        "colab": {
          "base_uri": "https://localhost:8080/",
          "height": 542
        },
        "id": "Pi-vnjqLADIX",
        "outputId": "12adbfa0-2998-4bc4-9d68-47cac49197ec"
      },
      "execution_count": 37,
      "outputs": [
        {
          "output_type": "display_data",
          "data": {
            "text/html": [
              "<html>\n",
              "<head><meta charset=\"utf-8\" /></head>\n",
              "<body>\n",
              "    <div>            <script src=\"https://cdnjs.cloudflare.com/ajax/libs/mathjax/2.7.5/MathJax.js?config=TeX-AMS-MML_SVG\"></script><script type=\"text/javascript\">if (window.MathJax && window.MathJax.Hub && window.MathJax.Hub.Config) {window.MathJax.Hub.Config({SVG: {font: \"STIX-Web\"}});}</script>                <script type=\"text/javascript\">window.PlotlyConfig = {MathJaxConfig: 'local'};</script>\n",
              "        <script charset=\"utf-8\" src=\"https://cdn.plot.ly/plotly-2.24.1.min.js\"></script>                <div id=\"9b57df81-6b36-405c-a921-d0de00aa3202\" class=\"plotly-graph-div\" style=\"height:525px; width:100%;\"></div>            <script type=\"text/javascript\">                                    window.PLOTLYENV=window.PLOTLYENV || {};                                    if (document.getElementById(\"9b57df81-6b36-405c-a921-d0de00aa3202\")) {                    Plotly.newPlot(                        \"9b57df81-6b36-405c-a921-d0de00aa3202\",                        [{\"alignmentgroup\":\"True\",\"hovertemplate\":\"zona=Centro\\u003cbr\\u003eProducto=%{x}\\u003cbr\\u003ePrecio Promedio=%{y}\\u003cextra\\u003e\\u003c\\u002fextra\\u003e\",\"legendgroup\":\"Centro\",\"marker\":{\"color\":\"#636efa\",\"pattern\":{\"shape\":\"\"}},\"name\":\"Centro\",\"offsetgroup\":\"Centro\",\"orientation\":\"v\",\"showlegend\":true,\"textposition\":\"auto\",\"x\":[\"Aguacate*\",\"Arracacha*\",\"Arveja verde en vaina\",\"Banano*\",\"Cebolla cabezona blanca\",\"Cebolla junca\",\"Ch\\u00f3colo mazorca\",\"Fr\\u00edjol verde*\",\"Granadilla\",\"Guayaba*\",\"Habichuela\",\"Lechuga batavia\",\"Lim\\u00f3n Tahit\\u00ed\",\"Lim\\u00f3n com\\u00fan\",\"Lulo\",\"Mandarina*\",\"Mango tommy\",\"Manzana royal gala\",\"Maracuy\\u00e1\",\"Mora de Castilla\",\"Naranja*\",\"Papa criolla\",\"Papaya maradol\",\"Pepino cohombro\",\"Piment\\u00f3n\",\"Pi\\u00f1a *\",\"Pl\\u00e1tano hart\\u00f3n verde\",\"Remolacha\",\"Tomate de \\u00e1rbol\",\"Tomate*\",\"Zanahoria\"],\"xaxis\":\"x\",\"y\":[4433.307692307692,3165.769230769231,6245.2692307692305,1674.9615384615386,2794.6153846153848,2941.076923076923,1744.7307692307693,3217.4,5213.681818181818,2476.705882352941,2313.1153846153848,1611.3076923076924,1830.9583333333333,4311.583333333333,3532.576923076923,3499.6,6387.538461538462,8776.076923076924,3055.6923076923076,4168.576923076923,1656.4615384615386,3550.576923076923,1318.3076923076924,1679.12,1397.84,3020.0,2182.923076923077,1001.76,3378.8076923076924,3384.3076923076924,1295.4615384615386],\"yaxis\":\"y\",\"type\":\"bar\"},{\"alignmentgroup\":\"True\",\"hovertemplate\":\"zona=Costa\\u003cbr\\u003eProducto=%{x}\\u003cbr\\u003ePrecio Promedio=%{y}\\u003cextra\\u003e\\u003c\\u002fextra\\u003e\",\"legendgroup\":\"Costa\",\"marker\":{\"color\":\"#EF553B\",\"pattern\":{\"shape\":\"\"}},\"name\":\"Costa\",\"offsetgroup\":\"Costa\",\"orientation\":\"v\",\"showlegend\":true,\"textposition\":\"auto\",\"x\":[\"Aguacate*\",\"Arracacha*\",\"Arveja verde en vaina\",\"Banano*\",\"Cebolla cabezona blanca\",\"Cebolla junca\",\"Ch\\u00f3colo mazorca\",\"Coco\",\"Fr\\u00edjol verde*\",\"Granadilla\",\"Guayaba*\",\"Habichuela\",\"Lechuga batavia\",\"Lim\\u00f3n Tahit\\u00ed\",\"Lim\\u00f3n com\\u00fan\",\"Lulo\",\"Mandarina*\",\"Mango tommy\",\"Manzana royal gala\",\"Maracuy\\u00e1\",\"Mora de Castilla\",\"Naranja*\",\"Papa criolla\",\"Papa negra*\",\"Pepino cohombro\",\"Piment\\u00f3n\",\"Pi\\u00f1a *\",\"Pl\\u00e1tano guineo\",\"Pl\\u00e1tano hart\\u00f3n verde\",\"Remolacha\",\"Tomate de \\u00e1rbol\",\"Tomate*\",\"Yuca*\",\"Zanahoria\"],\"xaxis\":\"x\",\"y\":[5625.02,4379.166666666667,8569.2,1336.4426229508197,3169.1772151898736,1631.0,1103.5,4678.225,5066.475,6808.3,2822.6666666666665,2987.4473684210525,2008.8076923076924,1917.7333333333333,2887.9767441860463,4325.725806451613,3799.4848484848485,7284.1,8639.133333333333,3371.4583333333335,4216.126582278481,1722.7333333333333,4157.714285714285,1545.709090909091,1656.0266666666666,1726.7692307692307,2677.090909090909,2589.9,3301.2714285714287,1269.1645569620252,3158.463768115942,3406.75,1572.5084745762713,1206.6811594202898],\"yaxis\":\"y\",\"type\":\"bar\"},{\"alignmentgroup\":\"True\",\"hovertemplate\":\"zona=Occidente\\u003cbr\\u003eProducto=%{x}\\u003cbr\\u003ePrecio Promedio=%{y}\\u003cextra\\u003e\\u003c\\u002fextra\\u003e\",\"legendgroup\":\"Occidente\",\"marker\":{\"color\":\"#00cc96\",\"pattern\":{\"shape\":\"\"}},\"name\":\"Occidente\",\"offsetgroup\":\"Occidente\",\"orientation\":\"v\",\"showlegend\":true,\"textposition\":\"auto\",\"x\":[\"Aguacate*\",\"Arracacha*\",\"Arveja verde en vaina\",\"Banano*\",\"Cebolla cabezona blanca\",\"Cebolla junca\",\"Ch\\u00f3colo mazorca\",\"Coco\",\"Fr\\u00edjol verde*\",\"Granadilla\",\"Guayaba*\",\"Habichuela\",\"Lechuga batavia\",\"Lim\\u00f3n Tahit\\u00ed\",\"Lim\\u00f3n com\\u00fan\",\"Lulo\",\"Mandarina*\",\"Mango tommy\",\"Manzana royal gala\",\"Maracuy\\u00e1\",\"Mora de Castilla\",\"Naranja*\",\"Papa criolla\",\"Papa negra*\",\"Papaya maradol\",\"Pepino cohombro\",\"Piment\\u00f3n\",\"Pi\\u00f1a *\",\"Pl\\u00e1tano guineo\",\"Pl\\u00e1tano hart\\u00f3n verde\",\"Remolacha\",\"Tomate de \\u00e1rbol\",\"Tomate*\",\"Yuca*\",\"Zanahoria\"],\"xaxis\":\"x\",\"y\":[4406.9125,3735.1612903225805,6154.048192771084,1492.75,2974.8444444444444,2324.311111111111,1118.4769230769232,5705.963636363636,3287.9555555555557,5884.245283018868,2413.0555555555557,3261.8333333333335,1488.7764705882353,1850.0506329113923,3848.896551724138,3447.5333333333333,3581.5949367088606,8693.876923076923,8244.086419753086,3219.3888888888887,4112.735632183908,1916.0975609756097,3419.423529411765,1354.7466666666667,2619.2444444444445,1702.9444444444443,1550.5111111111112,3517.556818181818,1329.6842105263158,2216.5454545454545,1027.8870967741937,3023.5955056179773,3313.176470588235,1599.0983606557377,794.0169491525423],\"yaxis\":\"y\",\"type\":\"bar\"},{\"alignmentgroup\":\"True\",\"hovertemplate\":\"zona=Oriente\\u003cbr\\u003eProducto=%{x}\\u003cbr\\u003ePrecio Promedio=%{y}\\u003cextra\\u003e\\u003c\\u002fextra\\u003e\",\"legendgroup\":\"Oriente\",\"marker\":{\"color\":\"#ab63fa\",\"pattern\":{\"shape\":\"\"}},\"name\":\"Oriente\",\"offsetgroup\":\"Oriente\",\"orientation\":\"v\",\"showlegend\":true,\"textposition\":\"auto\",\"x\":[\"Aguacate*\",\"Arracacha*\",\"Arveja verde en vaina\",\"Banano*\",\"Cebolla cabezona blanca\",\"Cebolla junca\",\"Ch\\u00f3colo mazorca\",\"Coco\",\"Fr\\u00edjol verde*\",\"Granadilla\",\"Guayaba*\",\"Habichuela\",\"Lechuga batavia\",\"Lim\\u00f3n Tahit\\u00ed\",\"Lim\\u00f3n com\\u00fan\",\"Lulo\",\"Mandarina*\",\"Mango tommy\",\"Manzana royal gala\",\"Maracuy\\u00e1\",\"Mora de Castilla\",\"Naranja*\",\"Papa criolla\",\"Papa negra*\",\"Papaya maradol\",\"Pepino cohombro\",\"Piment\\u00f3n\",\"Pi\\u00f1a *\",\"Pl\\u00e1tano guineo\",\"Pl\\u00e1tano hart\\u00f3n verde\",\"Remolacha\",\"Tomate de \\u00e1rbol\",\"Tomate*\",\"Yuca*\",\"Zanahoria\"],\"xaxis\":\"x\",\"y\":[5597.21875,3463.9375,6960.625,1895.625,2818.5263157894738,3624.6129032258063,1691.4375,6383.142857142857,3473.4375,6006.321428571428,1609.46875,2364.21875,1755.5806451612902,2988.608695652174,3789.285714285714,3306.5,5994.8421052631575,8206.125,9144.625,3121.5789473684213,3533.6875,2059.7368421052633,4400.473684210527,1530.5263157894738,2590.25,2498.5625,1592.71875,2499.2727272727275,1170.8333333333333,2414.71875,767.875,3107.0,3533.375,2081.777777777778,1524.5625],\"yaxis\":\"y\",\"type\":\"bar\"},{\"alignmentgroup\":\"True\",\"hovertemplate\":\"zona=Santanderes\\u003cbr\\u003eProducto=%{x}\\u003cbr\\u003ePrecio Promedio=%{y}\\u003cextra\\u003e\\u003c\\u002fextra\\u003e\",\"legendgroup\":\"Santanderes\",\"marker\":{\"color\":\"#FFA15A\",\"pattern\":{\"shape\":\"\"}},\"name\":\"Santanderes\",\"offsetgroup\":\"Santanderes\",\"orientation\":\"v\",\"showlegend\":true,\"textposition\":\"auto\",\"x\":[\"Aguacate*\",\"Arracacha*\",\"Arveja verde en vaina\",\"Banano*\",\"Cebolla cabezona blanca\",\"Cebolla junca\",\"Ch\\u00f3colo mazorca\",\"Fr\\u00edjol verde*\",\"Granadilla\",\"Guayaba*\",\"Habichuela\",\"Lechuga batavia\",\"Lim\\u00f3n Tahit\\u00ed\",\"Lim\\u00f3n com\\u00fan\",\"Lulo\",\"Mandarina*\",\"Mango tommy\",\"Manzana royal gala\",\"Maracuy\\u00e1\",\"Mora de Castilla\",\"Naranja*\",\"Papa criolla\",\"Papa negra*\",\"Papaya maradol\",\"Pepino cohombro\",\"Piment\\u00f3n\",\"Pi\\u00f1a *\",\"Pl\\u00e1tano hart\\u00f3n verde\",\"Remolacha\",\"Tomate de \\u00e1rbol\",\"Tomate*\",\"Yuca*\",\"Zanahoria\"],\"xaxis\":\"x\",\"y\":[5115.461538461538,3926.181818181818,8519.192307692309,2044.75,2811.4615384615386,1603.5,1235.8,2470.3846153846152,7721.772727272727,2522.48,2589.269230769231,1623.12,1372.1923076923076,3015.8846153846152,4253.791666666667,4141.04347826087,7513.545454545455,8363.384615384615,3180.9565217391305,3522.0,1264.4615384615386,2992.269230769231,1526.0,2509.923076923077,1698.7307692307693,1962.16,2265.6153846153848,2818.04,1045.6153846153845,3708.5416666666665,3555.3076923076924,2455.153846153846,1195.04],\"yaxis\":\"y\",\"type\":\"bar\"}],                        {\"template\":{\"data\":{\"histogram2dcontour\":[{\"type\":\"histogram2dcontour\",\"colorbar\":{\"outlinewidth\":0,\"ticks\":\"\"},\"colorscale\":[[0.0,\"#0d0887\"],[0.1111111111111111,\"#46039f\"],[0.2222222222222222,\"#7201a8\"],[0.3333333333333333,\"#9c179e\"],[0.4444444444444444,\"#bd3786\"],[0.5555555555555556,\"#d8576b\"],[0.6666666666666666,\"#ed7953\"],[0.7777777777777778,\"#fb9f3a\"],[0.8888888888888888,\"#fdca26\"],[1.0,\"#f0f921\"]]}],\"choropleth\":[{\"type\":\"choropleth\",\"colorbar\":{\"outlinewidth\":0,\"ticks\":\"\"}}],\"histogram2d\":[{\"type\":\"histogram2d\",\"colorbar\":{\"outlinewidth\":0,\"ticks\":\"\"},\"colorscale\":[[0.0,\"#0d0887\"],[0.1111111111111111,\"#46039f\"],[0.2222222222222222,\"#7201a8\"],[0.3333333333333333,\"#9c179e\"],[0.4444444444444444,\"#bd3786\"],[0.5555555555555556,\"#d8576b\"],[0.6666666666666666,\"#ed7953\"],[0.7777777777777778,\"#fb9f3a\"],[0.8888888888888888,\"#fdca26\"],[1.0,\"#f0f921\"]]}],\"heatmap\":[{\"type\":\"heatmap\",\"colorbar\":{\"outlinewidth\":0,\"ticks\":\"\"},\"colorscale\":[[0.0,\"#0d0887\"],[0.1111111111111111,\"#46039f\"],[0.2222222222222222,\"#7201a8\"],[0.3333333333333333,\"#9c179e\"],[0.4444444444444444,\"#bd3786\"],[0.5555555555555556,\"#d8576b\"],[0.6666666666666666,\"#ed7953\"],[0.7777777777777778,\"#fb9f3a\"],[0.8888888888888888,\"#fdca26\"],[1.0,\"#f0f921\"]]}],\"heatmapgl\":[{\"type\":\"heatmapgl\",\"colorbar\":{\"outlinewidth\":0,\"ticks\":\"\"},\"colorscale\":[[0.0,\"#0d0887\"],[0.1111111111111111,\"#46039f\"],[0.2222222222222222,\"#7201a8\"],[0.3333333333333333,\"#9c179e\"],[0.4444444444444444,\"#bd3786\"],[0.5555555555555556,\"#d8576b\"],[0.6666666666666666,\"#ed7953\"],[0.7777777777777778,\"#fb9f3a\"],[0.8888888888888888,\"#fdca26\"],[1.0,\"#f0f921\"]]}],\"contourcarpet\":[{\"type\":\"contourcarpet\",\"colorbar\":{\"outlinewidth\":0,\"ticks\":\"\"}}],\"contour\":[{\"type\":\"contour\",\"colorbar\":{\"outlinewidth\":0,\"ticks\":\"\"},\"colorscale\":[[0.0,\"#0d0887\"],[0.1111111111111111,\"#46039f\"],[0.2222222222222222,\"#7201a8\"],[0.3333333333333333,\"#9c179e\"],[0.4444444444444444,\"#bd3786\"],[0.5555555555555556,\"#d8576b\"],[0.6666666666666666,\"#ed7953\"],[0.7777777777777778,\"#fb9f3a\"],[0.8888888888888888,\"#fdca26\"],[1.0,\"#f0f921\"]]}],\"surface\":[{\"type\":\"surface\",\"colorbar\":{\"outlinewidth\":0,\"ticks\":\"\"},\"colorscale\":[[0.0,\"#0d0887\"],[0.1111111111111111,\"#46039f\"],[0.2222222222222222,\"#7201a8\"],[0.3333333333333333,\"#9c179e\"],[0.4444444444444444,\"#bd3786\"],[0.5555555555555556,\"#d8576b\"],[0.6666666666666666,\"#ed7953\"],[0.7777777777777778,\"#fb9f3a\"],[0.8888888888888888,\"#fdca26\"],[1.0,\"#f0f921\"]]}],\"mesh3d\":[{\"type\":\"mesh3d\",\"colorbar\":{\"outlinewidth\":0,\"ticks\":\"\"}}],\"scatter\":[{\"fillpattern\":{\"fillmode\":\"overlay\",\"size\":10,\"solidity\":0.2},\"type\":\"scatter\"}],\"parcoords\":[{\"type\":\"parcoords\",\"line\":{\"colorbar\":{\"outlinewidth\":0,\"ticks\":\"\"}}}],\"scatterpolargl\":[{\"type\":\"scatterpolargl\",\"marker\":{\"colorbar\":{\"outlinewidth\":0,\"ticks\":\"\"}}}],\"bar\":[{\"error_x\":{\"color\":\"#2a3f5f\"},\"error_y\":{\"color\":\"#2a3f5f\"},\"marker\":{\"line\":{\"color\":\"#E5ECF6\",\"width\":0.5},\"pattern\":{\"fillmode\":\"overlay\",\"size\":10,\"solidity\":0.2}},\"type\":\"bar\"}],\"scattergeo\":[{\"type\":\"scattergeo\",\"marker\":{\"colorbar\":{\"outlinewidth\":0,\"ticks\":\"\"}}}],\"scatterpolar\":[{\"type\":\"scatterpolar\",\"marker\":{\"colorbar\":{\"outlinewidth\":0,\"ticks\":\"\"}}}],\"histogram\":[{\"marker\":{\"pattern\":{\"fillmode\":\"overlay\",\"size\":10,\"solidity\":0.2}},\"type\":\"histogram\"}],\"scattergl\":[{\"type\":\"scattergl\",\"marker\":{\"colorbar\":{\"outlinewidth\":0,\"ticks\":\"\"}}}],\"scatter3d\":[{\"type\":\"scatter3d\",\"line\":{\"colorbar\":{\"outlinewidth\":0,\"ticks\":\"\"}},\"marker\":{\"colorbar\":{\"outlinewidth\":0,\"ticks\":\"\"}}}],\"scattermapbox\":[{\"type\":\"scattermapbox\",\"marker\":{\"colorbar\":{\"outlinewidth\":0,\"ticks\":\"\"}}}],\"scatterternary\":[{\"type\":\"scatterternary\",\"marker\":{\"colorbar\":{\"outlinewidth\":0,\"ticks\":\"\"}}}],\"scattercarpet\":[{\"type\":\"scattercarpet\",\"marker\":{\"colorbar\":{\"outlinewidth\":0,\"ticks\":\"\"}}}],\"carpet\":[{\"aaxis\":{\"endlinecolor\":\"#2a3f5f\",\"gridcolor\":\"white\",\"linecolor\":\"white\",\"minorgridcolor\":\"white\",\"startlinecolor\":\"#2a3f5f\"},\"baxis\":{\"endlinecolor\":\"#2a3f5f\",\"gridcolor\":\"white\",\"linecolor\":\"white\",\"minorgridcolor\":\"white\",\"startlinecolor\":\"#2a3f5f\"},\"type\":\"carpet\"}],\"table\":[{\"cells\":{\"fill\":{\"color\":\"#EBF0F8\"},\"line\":{\"color\":\"white\"}},\"header\":{\"fill\":{\"color\":\"#C8D4E3\"},\"line\":{\"color\":\"white\"}},\"type\":\"table\"}],\"barpolar\":[{\"marker\":{\"line\":{\"color\":\"#E5ECF6\",\"width\":0.5},\"pattern\":{\"fillmode\":\"overlay\",\"size\":10,\"solidity\":0.2}},\"type\":\"barpolar\"}],\"pie\":[{\"automargin\":true,\"type\":\"pie\"}]},\"layout\":{\"autotypenumbers\":\"strict\",\"colorway\":[\"#636efa\",\"#EF553B\",\"#00cc96\",\"#ab63fa\",\"#FFA15A\",\"#19d3f3\",\"#FF6692\",\"#B6E880\",\"#FF97FF\",\"#FECB52\"],\"font\":{\"color\":\"#2a3f5f\"},\"hovermode\":\"closest\",\"hoverlabel\":{\"align\":\"left\"},\"paper_bgcolor\":\"white\",\"plot_bgcolor\":\"#E5ECF6\",\"polar\":{\"bgcolor\":\"#E5ECF6\",\"angularaxis\":{\"gridcolor\":\"white\",\"linecolor\":\"white\",\"ticks\":\"\"},\"radialaxis\":{\"gridcolor\":\"white\",\"linecolor\":\"white\",\"ticks\":\"\"}},\"ternary\":{\"bgcolor\":\"#E5ECF6\",\"aaxis\":{\"gridcolor\":\"white\",\"linecolor\":\"white\",\"ticks\":\"\"},\"baxis\":{\"gridcolor\":\"white\",\"linecolor\":\"white\",\"ticks\":\"\"},\"caxis\":{\"gridcolor\":\"white\",\"linecolor\":\"white\",\"ticks\":\"\"}},\"coloraxis\":{\"colorbar\":{\"outlinewidth\":0,\"ticks\":\"\"}},\"colorscale\":{\"sequential\":[[0.0,\"#0d0887\"],[0.1111111111111111,\"#46039f\"],[0.2222222222222222,\"#7201a8\"],[0.3333333333333333,\"#9c179e\"],[0.4444444444444444,\"#bd3786\"],[0.5555555555555556,\"#d8576b\"],[0.6666666666666666,\"#ed7953\"],[0.7777777777777778,\"#fb9f3a\"],[0.8888888888888888,\"#fdca26\"],[1.0,\"#f0f921\"]],\"sequentialminus\":[[0.0,\"#0d0887\"],[0.1111111111111111,\"#46039f\"],[0.2222222222222222,\"#7201a8\"],[0.3333333333333333,\"#9c179e\"],[0.4444444444444444,\"#bd3786\"],[0.5555555555555556,\"#d8576b\"],[0.6666666666666666,\"#ed7953\"],[0.7777777777777778,\"#fb9f3a\"],[0.8888888888888888,\"#fdca26\"],[1.0,\"#f0f921\"]],\"diverging\":[[0,\"#8e0152\"],[0.1,\"#c51b7d\"],[0.2,\"#de77ae\"],[0.3,\"#f1b6da\"],[0.4,\"#fde0ef\"],[0.5,\"#f7f7f7\"],[0.6,\"#e6f5d0\"],[0.7,\"#b8e186\"],[0.8,\"#7fbc41\"],[0.9,\"#4d9221\"],[1,\"#276419\"]]},\"xaxis\":{\"gridcolor\":\"white\",\"linecolor\":\"white\",\"ticks\":\"\",\"title\":{\"standoff\":15},\"zerolinecolor\":\"white\",\"automargin\":true,\"zerolinewidth\":2},\"yaxis\":{\"gridcolor\":\"white\",\"linecolor\":\"white\",\"ticks\":\"\",\"title\":{\"standoff\":15},\"zerolinecolor\":\"white\",\"automargin\":true,\"zerolinewidth\":2},\"scene\":{\"xaxis\":{\"backgroundcolor\":\"#E5ECF6\",\"gridcolor\":\"white\",\"linecolor\":\"white\",\"showbackground\":true,\"ticks\":\"\",\"zerolinecolor\":\"white\",\"gridwidth\":2},\"yaxis\":{\"backgroundcolor\":\"#E5ECF6\",\"gridcolor\":\"white\",\"linecolor\":\"white\",\"showbackground\":true,\"ticks\":\"\",\"zerolinecolor\":\"white\",\"gridwidth\":2},\"zaxis\":{\"backgroundcolor\":\"#E5ECF6\",\"gridcolor\":\"white\",\"linecolor\":\"white\",\"showbackground\":true,\"ticks\":\"\",\"zerolinecolor\":\"white\",\"gridwidth\":2}},\"shapedefaults\":{\"line\":{\"color\":\"#2a3f5f\"}},\"annotationdefaults\":{\"arrowcolor\":\"#2a3f5f\",\"arrowhead\":0,\"arrowwidth\":1},\"geo\":{\"bgcolor\":\"white\",\"landcolor\":\"#E5ECF6\",\"subunitcolor\":\"white\",\"showland\":true,\"showlakes\":true,\"lakecolor\":\"white\"},\"title\":{\"x\":0.05},\"mapbox\":{\"style\":\"light\"}}},\"xaxis\":{\"anchor\":\"y\",\"domain\":[0.0,1.0],\"title\":{\"text\":\"Producto\"}},\"yaxis\":{\"anchor\":\"x\",\"domain\":[0.0,1.0],\"title\":{\"text\":\"Precio Promedio\"}},\"legend\":{\"title\":{\"text\":\"zona\"},\"tracegroupgap\":0},\"title\":{\"text\":\"Precio Promedio de Productos por Zona\"},\"barmode\":\"relative\"},                        {\"responsive\": true}                    ).then(function(){\n",
              "                            \n",
              "var gd = document.getElementById('9b57df81-6b36-405c-a921-d0de00aa3202');\n",
              "var x = new MutationObserver(function (mutations, observer) {{\n",
              "        var display = window.getComputedStyle(gd).display;\n",
              "        if (!display || display === 'none') {{\n",
              "            console.log([gd, 'removed!']);\n",
              "            Plotly.purge(gd);\n",
              "            observer.disconnect();\n",
              "        }}\n",
              "}});\n",
              "\n",
              "// Listen for the removal of the full notebook cells\n",
              "var notebookContainer = gd.closest('#notebook-container');\n",
              "if (notebookContainer) {{\n",
              "    x.observe(notebookContainer, {childList: true});\n",
              "}}\n",
              "\n",
              "// Listen for the clearing of the current output cell\n",
              "var outputEl = gd.closest('.output');\n",
              "if (outputEl) {{\n",
              "    x.observe(outputEl, {childList: true});\n",
              "}}\n",
              "\n",
              "                        })                };                            </script>        </div>\n",
              "</body>\n",
              "</html>"
            ]
          },
          "metadata": {}
        }
      ]
    },
    {
      "cell_type": "markdown",
      "source": [
        "En este gráfico se pueden apreciar las variaciones que tiene el precio de los distintos productos en las zonas asignadas: Centro, Costa, Occidente, Oriente y Santanderes, con esta información se podrían identificar zonas potencias de algunos productos y la explicación del porqué son más altas o bajas las variaciones en estas zonas."
      ],
      "metadata": {
        "id": "75cRwR4EFjKc"
      }
    },
    {
      "cell_type": "markdown",
      "source": [
        "## <font color='157699'> **Conclusiones** </font>\n",
        "\n",
        "*   Fue necesario eliminar filas duplicadas que además contaban con valores faltantes, en las demás ciudades que se presentaban datos faltantes asociados al precio, se consideró la eliminación de los mismos ya que la principal variable de la base de datos es el precio de cada producto.\n",
        "* Se realizaron correcciones en el nombramiento de productos, puntualmente el aguacate y la papa criolla.\n",
        "* Se asignaron valores de latitud y longitud a las ciudades que no contaban con estos valores.\n",
        "* Se hicieron correcciones en los tipos de variables asociados a precio y variabilidad para ser nombrados como decimales.\n",
        "* Se crearon categorías asociadas a las ciudades y variabilidades, para la primera una zonificación entre Occidente, Oriente, Centro, Costa y Santanderes, y para la segunda, variación baja, media y alta.\n",
        "* No se consideraron correcciones de normalización ni outliers ya que si se desea analizar el comportamiento de los precios es necesario contar con la totalidad de datos e identificar cuáles factores hacen que los precios presenten variabilidades amplias en los precios.\n",
        "* Se plantean preguntas y gráficos que ayudan a visualizar el comportamiento de los precios y productos en diferentes zonas, ciudades del país con el fin de identificar comportamientos que sirvan para realizar análisis más exactos y detallados.\n"
      ],
      "metadata": {
        "id": "mRD9mJVeGqPQ"
      }
    }
  ]
}